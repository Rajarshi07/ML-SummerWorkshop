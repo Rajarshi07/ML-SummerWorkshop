{
  "nbformat": 4,
  "nbformat_minor": 0,
  "metadata": {
    "colab": {
      "name": "Day2.ipynb",
      "provenance": []
    },
    "kernelspec": {
      "name": "python3",
      "display_name": "Python 3"
    },
    "language_info": {
      "name": "python"
    }
  },
  "cells": [
    {
      "cell_type": "code",
      "metadata": {
        "id": "NWbfJqE34JGq"
      },
      "source": [
        ""
      ],
      "execution_count": 1,
      "outputs": []
    },
    {
      "cell_type": "markdown",
      "metadata": {
        "id": "PlIZcwWy4-05"
      },
      "source": [
        "** Overview of what we are going to cover today**\n",
        " \n",
        "\n",
        "1.   Introducing the Python and SciPy platform.\n",
        "2.   Loading the Dataser\n",
        "3.   Summerizing the dataset\n",
        "4.   Visualizing the dataset\n",
        "5.   Evalusting some algorithm\n",
        "6.   Making some Prediction"
      ]
    },
    {
      "cell_type": "markdown",
      "metadata": {
        "id": "caZRkWA8Jhk1"
      },
      "source": [
        "Python is a great general-purpose programming language on its own, but with the help of a few popular libraries (numpy, scipy, matplotlib) it becomes a powerful environment for scientific computing."
      ]
    },
    {
      "cell_type": "markdown",
      "metadata": {
        "id": "6H6LPp1KKK8B"
      },
      "source": [
        "**Features of Google Colab**\n",
        "\n",
        "•\tWrite and execute code in Python\n",
        "\n",
        "•\tDocument the code which supports the mathematical equations\n",
        "\n",
        "•\tCreate new notebooks\n",
        "\n",
        "•\tUpload the existing notebooks\n",
        "\n",
        "•\tShare the notebooks with the google link\n",
        "\n",
        "•\tImport data from Google Drive\n",
        "\n",
        "•\tSave notebooks from/to Google Drive\n",
        "\n",
        "•\tImport/Publish notebooks from GitHub\n",
        "\n",
        "•\tImport external datasets e.g. from Kaggle\n",
        "\n",
        "•\tIntegrate PyTorch, TensorFlow, Keras, OpenCV\n",
        "\n",
        "•\tFree Cloud service with free GPU and TPU\n"
      ]
    },
    {
      "cell_type": "markdown",
      "metadata": {
        "id": "Cd83cx7lQpf4"
      },
      "source": [
        "**Some useful Python Libraries used in Machine Learning**\n",
        "\n",
        "**Numpy**\n",
        "\n",
        "NumPy is the fundamental package for scientific computing with Python. It mostly used for solving matrix problems."
      ]
    },
    {
      "cell_type": "code",
      "metadata": {
        "colab": {
          "base_uri": "https://localhost:8080/"
        },
        "id": "2l6xXJJfQk6n",
        "outputId": "8c575199-c27f-40a4-88a9-04fd48438609"
      },
      "source": [
        "import numpy as np\n",
        "arr = np.array([])\n",
        "type(arr)\n"
      ],
      "execution_count": 2,
      "outputs": [
        {
          "output_type": "execute_result",
          "data": {
            "text/plain": [
              "numpy.ndarray"
            ]
          },
          "metadata": {},
          "execution_count": 2
        }
      ]
    },
    {
      "cell_type": "markdown",
      "metadata": {
        "id": "pLKXckrUTdvS"
      },
      "source": [
        "**Creating an array of zeros:**\n"
      ]
    },
    {
      "cell_type": "code",
      "metadata": {
        "colab": {
          "base_uri": "https://localhost:8080/"
        },
        "id": "5HigqvYFTqk3",
        "outputId": "c3fb6f46-9ece-42a7-c126-3e4d90b6fd28"
      },
      "source": [
        "np.zeros(5) # by default it produce float"
      ],
      "execution_count": 3,
      "outputs": [
        {
          "output_type": "execute_result",
          "data": {
            "text/plain": [
              "array([0., 0., 0., 0., 0.])"
            ]
          },
          "metadata": {},
          "execution_count": 3
        }
      ]
    },
    {
      "cell_type": "code",
      "metadata": {
        "colab": {
          "base_uri": "https://localhost:8080/"
        },
        "id": "cdNYQA1_T8EZ",
        "outputId": "edec554f-25bd-408b-98a9-dcc4f63ec82a"
      },
      "source": [
        "np.zeros(5, dtype=int)\n"
      ],
      "execution_count": 4,
      "outputs": [
        {
          "output_type": "execute_result",
          "data": {
            "text/plain": [
              "array([0, 0, 0, 0, 0])"
            ]
          },
          "metadata": {},
          "execution_count": 4
        }
      ]
    },
    {
      "cell_type": "markdown",
      "metadata": {
        "id": "KsbGhE3BURSw"
      },
      "source": [
        "**Creating a Sequence of Number:**"
      ]
    },
    {
      "cell_type": "code",
      "metadata": {
        "colab": {
          "base_uri": "https://localhost:8080/"
        },
        "id": "i5_t4CsKUUpJ",
        "outputId": "07dd9964-8b10-4d6f-c6df-1faff732719b"
      },
      "source": [
        "# if a single parameter was passed then the sequence was start from 0.\n",
        ">>> print(np.arange(10)) "
      ],
      "execution_count": 5,
      "outputs": [
        {
          "output_type": "stream",
          "name": "stdout",
          "text": [
            "[0 1 2 3 4 5 6 7 8 9]\n"
          ]
        }
      ]
    },
    {
      "cell_type": "code",
      "metadata": {
        "colab": {
          "base_uri": "https://localhost:8080/"
        },
        "id": "N7ULBHY7UtPh",
        "outputId": "98840408-921e-4529-aadf-a43f0d52ef16"
      },
      "source": [
        "# first parameter denotes the starting point\n",
        "# second paramter denotes the ending point\n",
        "# if the third parameter was not specified then 1 is used as default step\n",
        "print(np.arange(2, 10))"
      ],
      "execution_count": 6,
      "outputs": [
        {
          "output_type": "stream",
          "name": "stdout",
          "text": [
            "[2 3 4 5 6 7 8 9]\n"
          ]
        }
      ]
    },
    {
      "cell_type": "code",
      "metadata": {
        "colab": {
          "base_uri": "https://localhost:8080/"
        },
        "id": "_XPwveSRU-0X",
        "outputId": "a80d854b-bd35-44bb-fc88-2ea1b4decb60"
      },
      "source": [
        "print(np.arange(1, 10, 2)) # here 2 is for the steps"
      ],
      "execution_count": 7,
      "outputs": [
        {
          "output_type": "stream",
          "name": "stdout",
          "text": [
            "[1 3 5 7 9]\n"
          ]
        }
      ]
    },
    {
      "cell_type": "markdown",
      "metadata": {
        "id": "tT3sHBQ0VM3v"
      },
      "source": [
        "**Reshaping an Array:**"
      ]
    },
    {
      "cell_type": "code",
      "metadata": {
        "colab": {
          "base_uri": "https://localhost:8080/"
        },
        "id": "5IeUpxxWVIv7",
        "outputId": "d9dd6408-492c-481f-d80a-c14565833345"
      },
      "source": [
        "np.arange(12).reshape(3, 4) # 1d array reshaped into 2d."
      ],
      "execution_count": 8,
      "outputs": [
        {
          "output_type": "execute_result",
          "data": {
            "text/plain": [
              "array([[ 0,  1,  2,  3],\n",
              "       [ 4,  5,  6,  7],\n",
              "       [ 8,  9, 10, 11]])"
            ]
          },
          "metadata": {},
          "execution_count": 8
        }
      ]
    },
    {
      "cell_type": "markdown",
      "metadata": {
        "id": "CnPjd4WdV5pf"
      },
      "source": [
        "**Flatten an Array**"
      ]
    },
    {
      "cell_type": "code",
      "metadata": {
        "colab": {
          "base_uri": "https://localhost:8080/"
        },
        "id": "WKxOFtleVl13",
        "outputId": "c51ee5b3-73a3-4e67-8869-312067f279af"
      },
      "source": [
        "two_d_arr = np.arange(10).reshape(2, 5)\n",
        "print(two_d_arr)\n",
        "two_d_arr.ravel()"
      ],
      "execution_count": 9,
      "outputs": [
        {
          "output_type": "stream",
          "name": "stdout",
          "text": [
            "[[0 1 2 3 4]\n",
            " [5 6 7 8 9]]\n"
          ]
        },
        {
          "output_type": "execute_result",
          "data": {
            "text/plain": [
              "array([0, 1, 2, 3, 4, 5, 6, 7, 8, 9])"
            ]
          },
          "metadata": {},
          "execution_count": 9
        }
      ]
    },
    {
      "cell_type": "markdown",
      "metadata": {
        "id": "vKHrLLnmWNZP"
      },
      "source": [
        "**Transpose an Array**"
      ]
    },
    {
      "cell_type": "code",
      "metadata": {
        "colab": {
          "base_uri": "https://localhost:8080/"
        },
        "id": "leMjhbtIWVHB",
        "outputId": "a9f7dc56-82b8-44db-c867-c99ec165cb3c"
      },
      "source": [
        "np.arange(10).reshape(2, 5).T"
      ],
      "execution_count": 10,
      "outputs": [
        {
          "output_type": "execute_result",
          "data": {
            "text/plain": [
              "array([[0, 5],\n",
              "       [1, 6],\n",
              "       [2, 7],\n",
              "       [3, 8],\n",
              "       [4, 9]])"
            ]
          },
          "metadata": {},
          "execution_count": 10
        }
      ]
    },
    {
      "cell_type": "markdown",
      "metadata": {
        "id": "VAaple8MWp3V"
      },
      "source": [
        "# **Pandas**\n",
        "\n",
        "**Pandas** is the most popular machine learning library written in python, for data manipulation and analysis. It is a fast and efficient DataFrame object for data manipulation with integrated indexing."
      ]
    },
    {
      "cell_type": "code",
      "metadata": {
        "id": "tGxM3ys_Z5dR"
      },
      "source": [
        "import pandas as pd\n"
      ],
      "execution_count": 11,
      "outputs": []
    },
    {
      "cell_type": "markdown",
      "metadata": {
        "id": "IoiHw-sraP5K"
      },
      "source": [
        "**Creating a series**"
      ]
    },
    {
      "cell_type": "code",
      "metadata": {
        "colab": {
          "base_uri": "https://localhost:8080/"
        },
        "id": "9wfUJa3KaXSI",
        "outputId": "91d04603-38b0-4dec-9839-ef919be0166e"
      },
      "source": [
        "pd.Series([1,2,3,4,5])"
      ],
      "execution_count": 12,
      "outputs": [
        {
          "output_type": "execute_result",
          "data": {
            "text/plain": [
              "0    1\n",
              "1    2\n",
              "2    3\n",
              "3    4\n",
              "4    5\n",
              "dtype: int64"
            ]
          },
          "metadata": {},
          "execution_count": 12
        }
      ]
    },
    {
      "cell_type": "markdown",
      "metadata": {
        "id": "usn1ndtcceEZ"
      },
      "source": [
        "**Creating a DataFrame**"
      ]
    },
    {
      "cell_type": "code",
      "metadata": {
        "id": "jDmRy1ngcoh9"
      },
      "source": [
        "# final exam result of 10 students\n",
        "name = [\"Ankit\", \"Soham\", \"Sujan\", \"Sagar\", \"Isha\", \"Rony\", \"Remo\", \"Sachin\", \"Mahua\", \"Sumon\"]\n",
        "math = [99, 58, 30, 40, 70, 77, 83, 68, 23, 0]\n",
        "english = [78, 67, 34, 33, 32, 21, 45, 89, 95, 10]\n",
        "physics = [20, 50, 55, 43, 78, 87, 46, 98, 69, 35]\n",
        "\n",
        "# now we want to create a result DataFrame\n",
        "result = pd.DataFrame({\n",
        "    \"Name\" : name,\n",
        "    \"Math\" : math,\n",
        "    \"English\": english,\n",
        "    \"Physics\" : physics\n",
        "})"
      ],
      "execution_count": 13,
      "outputs": []
    },
    {
      "cell_type": "code",
      "metadata": {
        "colab": {
          "base_uri": "https://localhost:8080/",
          "height": 359
        },
        "id": "JrR3sERedBKk",
        "outputId": "3c45fc3d-4fc4-40b9-8ef2-2b0329d73029"
      },
      "source": [
        "result"
      ],
      "execution_count": 14,
      "outputs": [
        {
          "output_type": "execute_result",
          "data": {
            "text/html": [
              "<div>\n",
              "<style scoped>\n",
              "    .dataframe tbody tr th:only-of-type {\n",
              "        vertical-align: middle;\n",
              "    }\n",
              "\n",
              "    .dataframe tbody tr th {\n",
              "        vertical-align: top;\n",
              "    }\n",
              "\n",
              "    .dataframe thead th {\n",
              "        text-align: right;\n",
              "    }\n",
              "</style>\n",
              "<table border=\"1\" class=\"dataframe\">\n",
              "  <thead>\n",
              "    <tr style=\"text-align: right;\">\n",
              "      <th></th>\n",
              "      <th>Name</th>\n",
              "      <th>Math</th>\n",
              "      <th>English</th>\n",
              "      <th>Physics</th>\n",
              "    </tr>\n",
              "  </thead>\n",
              "  <tbody>\n",
              "    <tr>\n",
              "      <th>0</th>\n",
              "      <td>Ankit</td>\n",
              "      <td>99</td>\n",
              "      <td>78</td>\n",
              "      <td>20</td>\n",
              "    </tr>\n",
              "    <tr>\n",
              "      <th>1</th>\n",
              "      <td>Soham</td>\n",
              "      <td>58</td>\n",
              "      <td>67</td>\n",
              "      <td>50</td>\n",
              "    </tr>\n",
              "    <tr>\n",
              "      <th>2</th>\n",
              "      <td>Sujan</td>\n",
              "      <td>30</td>\n",
              "      <td>34</td>\n",
              "      <td>55</td>\n",
              "    </tr>\n",
              "    <tr>\n",
              "      <th>3</th>\n",
              "      <td>Sagar</td>\n",
              "      <td>40</td>\n",
              "      <td>33</td>\n",
              "      <td>43</td>\n",
              "    </tr>\n",
              "    <tr>\n",
              "      <th>4</th>\n",
              "      <td>Isha</td>\n",
              "      <td>70</td>\n",
              "      <td>32</td>\n",
              "      <td>78</td>\n",
              "    </tr>\n",
              "    <tr>\n",
              "      <th>5</th>\n",
              "      <td>Rony</td>\n",
              "      <td>77</td>\n",
              "      <td>21</td>\n",
              "      <td>87</td>\n",
              "    </tr>\n",
              "    <tr>\n",
              "      <th>6</th>\n",
              "      <td>Remo</td>\n",
              "      <td>83</td>\n",
              "      <td>45</td>\n",
              "      <td>46</td>\n",
              "    </tr>\n",
              "    <tr>\n",
              "      <th>7</th>\n",
              "      <td>Sachin</td>\n",
              "      <td>68</td>\n",
              "      <td>89</td>\n",
              "      <td>98</td>\n",
              "    </tr>\n",
              "    <tr>\n",
              "      <th>8</th>\n",
              "      <td>Mahua</td>\n",
              "      <td>23</td>\n",
              "      <td>95</td>\n",
              "      <td>69</td>\n",
              "    </tr>\n",
              "    <tr>\n",
              "      <th>9</th>\n",
              "      <td>Sumon</td>\n",
              "      <td>0</td>\n",
              "      <td>10</td>\n",
              "      <td>35</td>\n",
              "    </tr>\n",
              "  </tbody>\n",
              "</table>\n",
              "</div>"
            ],
            "text/plain": [
              "     Name  Math  English  Physics\n",
              "0   Ankit    99       78       20\n",
              "1   Soham    58       67       50\n",
              "2   Sujan    30       34       55\n",
              "3   Sagar    40       33       43\n",
              "4    Isha    70       32       78\n",
              "5    Rony    77       21       87\n",
              "6    Remo    83       45       46\n",
              "7  Sachin    68       89       98\n",
              "8   Mahua    23       95       69\n",
              "9   Sumon     0       10       35"
            ]
          },
          "metadata": {},
          "execution_count": 14
        }
      ]
    },
    {
      "cell_type": "markdown",
      "metadata": {
        "id": "ksem9G-mdYtT"
      },
      "source": [
        "**Head and Tail of a DataFrame**"
      ]
    },
    {
      "cell_type": "code",
      "metadata": {
        "colab": {
          "base_uri": "https://localhost:8080/"
        },
        "id": "k9K9zTcXdeHs",
        "outputId": "b275ba7b-ace7-41db-a59e-5317c36d8315"
      },
      "source": [
        "print(result.head())\n"
      ],
      "execution_count": 15,
      "outputs": [
        {
          "output_type": "stream",
          "name": "stdout",
          "text": [
            "    Name  Math  English  Physics\n",
            "0  Ankit    99       78       20\n",
            "1  Soham    58       67       50\n",
            "2  Sujan    30       34       55\n",
            "3  Sagar    40       33       43\n",
            "4   Isha    70       32       78\n"
          ]
        }
      ]
    },
    {
      "cell_type": "code",
      "metadata": {
        "colab": {
          "base_uri": "https://localhost:8080/"
        },
        "id": "KmNEqn6jdlI_",
        "outputId": "50482228-be69-4ac2-cff1-461bc88ffaa1"
      },
      "source": [
        "print(result.tail())\n"
      ],
      "execution_count": 16,
      "outputs": [
        {
          "output_type": "stream",
          "name": "stdout",
          "text": [
            "     Name  Math  English  Physics\n",
            "5    Rony    77       21       87\n",
            "6    Remo    83       45       46\n",
            "7  Sachin    68       89       98\n",
            "8   Mahua    23       95       69\n",
            "9   Sumon     0       10       35\n"
          ]
        }
      ]
    },
    {
      "cell_type": "code",
      "metadata": {
        "colab": {
          "base_uri": "https://localhost:8080/"
        },
        "id": "Hnp03iDedzPF",
        "outputId": "06e68fc9-b10b-4202-bd14-41549270bf8d"
      },
      "source": [
        "print(result.head(2))"
      ],
      "execution_count": 17,
      "outputs": [
        {
          "output_type": "stream",
          "name": "stdout",
          "text": [
            "    Name  Math  English  Physics\n",
            "0  Ankit    99       78       20\n",
            "1  Soham    58       67       50\n"
          ]
        }
      ]
    },
    {
      "cell_type": "markdown",
      "metadata": {
        "id": "_5MQU6FsedMR"
      },
      "source": [
        "**Reading a .CSV file**"
      ]
    },
    {
      "cell_type": "code",
      "metadata": {
        "id": "BKIkXjf_eglc"
      },
      "source": [
        "df = pd.read_csv('/content/sample_data/StudentsPerformance.csv')"
      ],
      "execution_count": 18,
      "outputs": []
    },
    {
      "cell_type": "code",
      "metadata": {
        "colab": {
          "base_uri": "https://localhost:8080/",
          "height": 419
        },
        "id": "LSJchgcxe57B",
        "outputId": "91c7e708-1ab0-4529-96d2-9e2c85f6d7b2"
      },
      "source": [
        "df.head(100)\n"
      ],
      "execution_count": 19,
      "outputs": [
        {
          "output_type": "execute_result",
          "data": {
            "text/html": [
              "<div>\n",
              "<style scoped>\n",
              "    .dataframe tbody tr th:only-of-type {\n",
              "        vertical-align: middle;\n",
              "    }\n",
              "\n",
              "    .dataframe tbody tr th {\n",
              "        vertical-align: top;\n",
              "    }\n",
              "\n",
              "    .dataframe thead th {\n",
              "        text-align: right;\n",
              "    }\n",
              "</style>\n",
              "<table border=\"1\" class=\"dataframe\">\n",
              "  <thead>\n",
              "    <tr style=\"text-align: right;\">\n",
              "      <th></th>\n",
              "      <th>gender</th>\n",
              "      <th>race/ethnicity</th>\n",
              "      <th>parental level of education</th>\n",
              "      <th>lunch</th>\n",
              "      <th>test preparation course</th>\n",
              "      <th>math score</th>\n",
              "      <th>reading score</th>\n",
              "      <th>writing score</th>\n",
              "    </tr>\n",
              "  </thead>\n",
              "  <tbody>\n",
              "    <tr>\n",
              "      <th>0</th>\n",
              "      <td>female</td>\n",
              "      <td>group B</td>\n",
              "      <td>bachelor's degree</td>\n",
              "      <td>standard</td>\n",
              "      <td>none</td>\n",
              "      <td>72</td>\n",
              "      <td>72</td>\n",
              "      <td>74</td>\n",
              "    </tr>\n",
              "    <tr>\n",
              "      <th>1</th>\n",
              "      <td>female</td>\n",
              "      <td>group C</td>\n",
              "      <td>some college</td>\n",
              "      <td>standard</td>\n",
              "      <td>completed</td>\n",
              "      <td>69</td>\n",
              "      <td>90</td>\n",
              "      <td>88</td>\n",
              "    </tr>\n",
              "    <tr>\n",
              "      <th>2</th>\n",
              "      <td>female</td>\n",
              "      <td>group B</td>\n",
              "      <td>master's degree</td>\n",
              "      <td>standard</td>\n",
              "      <td>none</td>\n",
              "      <td>90</td>\n",
              "      <td>95</td>\n",
              "      <td>93</td>\n",
              "    </tr>\n",
              "    <tr>\n",
              "      <th>3</th>\n",
              "      <td>male</td>\n",
              "      <td>group A</td>\n",
              "      <td>associate's degree</td>\n",
              "      <td>free/reduced</td>\n",
              "      <td>none</td>\n",
              "      <td>47</td>\n",
              "      <td>57</td>\n",
              "      <td>44</td>\n",
              "    </tr>\n",
              "    <tr>\n",
              "      <th>4</th>\n",
              "      <td>male</td>\n",
              "      <td>group C</td>\n",
              "      <td>some college</td>\n",
              "      <td>standard</td>\n",
              "      <td>none</td>\n",
              "      <td>76</td>\n",
              "      <td>78</td>\n",
              "      <td>75</td>\n",
              "    </tr>\n",
              "    <tr>\n",
              "      <th>...</th>\n",
              "      <td>...</td>\n",
              "      <td>...</td>\n",
              "      <td>...</td>\n",
              "      <td>...</td>\n",
              "      <td>...</td>\n",
              "      <td>...</td>\n",
              "      <td>...</td>\n",
              "      <td>...</td>\n",
              "    </tr>\n",
              "    <tr>\n",
              "      <th>95</th>\n",
              "      <td>male</td>\n",
              "      <td>group C</td>\n",
              "      <td>associate's degree</td>\n",
              "      <td>free/reduced</td>\n",
              "      <td>completed</td>\n",
              "      <td>78</td>\n",
              "      <td>81</td>\n",
              "      <td>82</td>\n",
              "    </tr>\n",
              "    <tr>\n",
              "      <th>96</th>\n",
              "      <td>male</td>\n",
              "      <td>group B</td>\n",
              "      <td>some high school</td>\n",
              "      <td>standard</td>\n",
              "      <td>completed</td>\n",
              "      <td>65</td>\n",
              "      <td>66</td>\n",
              "      <td>62</td>\n",
              "    </tr>\n",
              "    <tr>\n",
              "      <th>97</th>\n",
              "      <td>female</td>\n",
              "      <td>group E</td>\n",
              "      <td>some college</td>\n",
              "      <td>standard</td>\n",
              "      <td>completed</td>\n",
              "      <td>63</td>\n",
              "      <td>72</td>\n",
              "      <td>70</td>\n",
              "    </tr>\n",
              "    <tr>\n",
              "      <th>98</th>\n",
              "      <td>female</td>\n",
              "      <td>group D</td>\n",
              "      <td>some college</td>\n",
              "      <td>free/reduced</td>\n",
              "      <td>none</td>\n",
              "      <td>58</td>\n",
              "      <td>67</td>\n",
              "      <td>62</td>\n",
              "    </tr>\n",
              "    <tr>\n",
              "      <th>99</th>\n",
              "      <td>female</td>\n",
              "      <td>group D</td>\n",
              "      <td>bachelor's degree</td>\n",
              "      <td>standard</td>\n",
              "      <td>none</td>\n",
              "      <td>65</td>\n",
              "      <td>67</td>\n",
              "      <td>62</td>\n",
              "    </tr>\n",
              "  </tbody>\n",
              "</table>\n",
              "<p>100 rows × 8 columns</p>\n",
              "</div>"
            ],
            "text/plain": [
              "    gender race/ethnicity  ... reading score writing score\n",
              "0   female        group B  ...            72            74\n",
              "1   female        group C  ...            90            88\n",
              "2   female        group B  ...            95            93\n",
              "3     male        group A  ...            57            44\n",
              "4     male        group C  ...            78            75\n",
              "..     ...            ...  ...           ...           ...\n",
              "95    male        group C  ...            81            82\n",
              "96    male        group B  ...            66            62\n",
              "97  female        group E  ...            72            70\n",
              "98  female        group D  ...            67            62\n",
              "99  female        group D  ...            67            62\n",
              "\n",
              "[100 rows x 8 columns]"
            ]
          },
          "metadata": {},
          "execution_count": 19
        }
      ]
    },
    {
      "cell_type": "code",
      "metadata": {
        "colab": {
          "base_uri": "https://localhost:8080/"
        },
        "id": "Tf30Gy0cf6hK",
        "outputId": "92eec044-2eab-49e3-8b38-a447003e2566"
      },
      "source": [
        "# checking datatypes\n",
        "df.info()"
      ],
      "execution_count": 20,
      "outputs": [
        {
          "output_type": "stream",
          "name": "stdout",
          "text": [
            "<class 'pandas.core.frame.DataFrame'>\n",
            "RangeIndex: 1000 entries, 0 to 999\n",
            "Data columns (total 8 columns):\n",
            " #   Column                       Non-Null Count  Dtype \n",
            "---  ------                       --------------  ----- \n",
            " 0   gender                       1000 non-null   object\n",
            " 1   race/ethnicity               1000 non-null   object\n",
            " 2   parental level of education  1000 non-null   object\n",
            " 3   lunch                        1000 non-null   object\n",
            " 4   test preparation course      1000 non-null   object\n",
            " 5   math score                   1000 non-null   int64 \n",
            " 6   reading score                1000 non-null   int64 \n",
            " 7   writing score                1000 non-null   int64 \n",
            "dtypes: int64(3), object(5)\n",
            "memory usage: 62.6+ KB\n"
          ]
        }
      ]
    },
    {
      "cell_type": "markdown",
      "metadata": {
        "id": "O4L6Zt0Aluur"
      },
      "source": [
        "**Statistical Description of a DataFrame:**"
      ]
    },
    {
      "cell_type": "code",
      "metadata": {
        "colab": {
          "base_uri": "https://localhost:8080/",
          "height": 297
        },
        "id": "OkDU5-MSlUaO",
        "outputId": "e4b0b3b1-3537-48e3-8c06-b25b21974479"
      },
      "source": [
        "df.describe()\n"
      ],
      "execution_count": 21,
      "outputs": [
        {
          "output_type": "execute_result",
          "data": {
            "text/html": [
              "<div>\n",
              "<style scoped>\n",
              "    .dataframe tbody tr th:only-of-type {\n",
              "        vertical-align: middle;\n",
              "    }\n",
              "\n",
              "    .dataframe tbody tr th {\n",
              "        vertical-align: top;\n",
              "    }\n",
              "\n",
              "    .dataframe thead th {\n",
              "        text-align: right;\n",
              "    }\n",
              "</style>\n",
              "<table border=\"1\" class=\"dataframe\">\n",
              "  <thead>\n",
              "    <tr style=\"text-align: right;\">\n",
              "      <th></th>\n",
              "      <th>math score</th>\n",
              "      <th>reading score</th>\n",
              "      <th>writing score</th>\n",
              "    </tr>\n",
              "  </thead>\n",
              "  <tbody>\n",
              "    <tr>\n",
              "      <th>count</th>\n",
              "      <td>1000.00000</td>\n",
              "      <td>1000.000000</td>\n",
              "      <td>1000.000000</td>\n",
              "    </tr>\n",
              "    <tr>\n",
              "      <th>mean</th>\n",
              "      <td>66.08900</td>\n",
              "      <td>69.169000</td>\n",
              "      <td>68.054000</td>\n",
              "    </tr>\n",
              "    <tr>\n",
              "      <th>std</th>\n",
              "      <td>15.16308</td>\n",
              "      <td>14.600192</td>\n",
              "      <td>15.195657</td>\n",
              "    </tr>\n",
              "    <tr>\n",
              "      <th>min</th>\n",
              "      <td>0.00000</td>\n",
              "      <td>17.000000</td>\n",
              "      <td>10.000000</td>\n",
              "    </tr>\n",
              "    <tr>\n",
              "      <th>25%</th>\n",
              "      <td>57.00000</td>\n",
              "      <td>59.000000</td>\n",
              "      <td>57.750000</td>\n",
              "    </tr>\n",
              "    <tr>\n",
              "      <th>50%</th>\n",
              "      <td>66.00000</td>\n",
              "      <td>70.000000</td>\n",
              "      <td>69.000000</td>\n",
              "    </tr>\n",
              "    <tr>\n",
              "      <th>75%</th>\n",
              "      <td>77.00000</td>\n",
              "      <td>79.000000</td>\n",
              "      <td>79.000000</td>\n",
              "    </tr>\n",
              "    <tr>\n",
              "      <th>max</th>\n",
              "      <td>100.00000</td>\n",
              "      <td>100.000000</td>\n",
              "      <td>100.000000</td>\n",
              "    </tr>\n",
              "  </tbody>\n",
              "</table>\n",
              "</div>"
            ],
            "text/plain": [
              "       math score  reading score  writing score\n",
              "count  1000.00000    1000.000000    1000.000000\n",
              "mean     66.08900      69.169000      68.054000\n",
              "std      15.16308      14.600192      15.195657\n",
              "min       0.00000      17.000000      10.000000\n",
              "25%      57.00000      59.000000      57.750000\n",
              "50%      66.00000      70.000000      69.000000\n",
              "75%      77.00000      79.000000      79.000000\n",
              "max     100.00000     100.000000     100.000000"
            ]
          },
          "metadata": {},
          "execution_count": 21
        }
      ]
    },
    {
      "cell_type": "markdown",
      "metadata": {
        "id": "O2mOopM2m5EV"
      },
      "source": [
        "**Some basic task with DataFrame:**\n",
        "\n",
        "Delete or drop an attribute/column"
      ]
    },
    {
      "cell_type": "code",
      "metadata": {
        "colab": {
          "base_uri": "https://localhost:8080/",
          "height": 359
        },
        "id": "QlDkl2TGndqr",
        "outputId": "43435241-121d-4e66-8018-58a01a834d0d"
      },
      "source": [
        "result\n",
        "\n",
        "\n"
      ],
      "execution_count": 22,
      "outputs": [
        {
          "output_type": "execute_result",
          "data": {
            "text/html": [
              "<div>\n",
              "<style scoped>\n",
              "    .dataframe tbody tr th:only-of-type {\n",
              "        vertical-align: middle;\n",
              "    }\n",
              "\n",
              "    .dataframe tbody tr th {\n",
              "        vertical-align: top;\n",
              "    }\n",
              "\n",
              "    .dataframe thead th {\n",
              "        text-align: right;\n",
              "    }\n",
              "</style>\n",
              "<table border=\"1\" class=\"dataframe\">\n",
              "  <thead>\n",
              "    <tr style=\"text-align: right;\">\n",
              "      <th></th>\n",
              "      <th>Name</th>\n",
              "      <th>Math</th>\n",
              "      <th>English</th>\n",
              "      <th>Physics</th>\n",
              "    </tr>\n",
              "  </thead>\n",
              "  <tbody>\n",
              "    <tr>\n",
              "      <th>0</th>\n",
              "      <td>Ankit</td>\n",
              "      <td>99</td>\n",
              "      <td>78</td>\n",
              "      <td>20</td>\n",
              "    </tr>\n",
              "    <tr>\n",
              "      <th>1</th>\n",
              "      <td>Soham</td>\n",
              "      <td>58</td>\n",
              "      <td>67</td>\n",
              "      <td>50</td>\n",
              "    </tr>\n",
              "    <tr>\n",
              "      <th>2</th>\n",
              "      <td>Sujan</td>\n",
              "      <td>30</td>\n",
              "      <td>34</td>\n",
              "      <td>55</td>\n",
              "    </tr>\n",
              "    <tr>\n",
              "      <th>3</th>\n",
              "      <td>Sagar</td>\n",
              "      <td>40</td>\n",
              "      <td>33</td>\n",
              "      <td>43</td>\n",
              "    </tr>\n",
              "    <tr>\n",
              "      <th>4</th>\n",
              "      <td>Isha</td>\n",
              "      <td>70</td>\n",
              "      <td>32</td>\n",
              "      <td>78</td>\n",
              "    </tr>\n",
              "    <tr>\n",
              "      <th>5</th>\n",
              "      <td>Rony</td>\n",
              "      <td>77</td>\n",
              "      <td>21</td>\n",
              "      <td>87</td>\n",
              "    </tr>\n",
              "    <tr>\n",
              "      <th>6</th>\n",
              "      <td>Remo</td>\n",
              "      <td>83</td>\n",
              "      <td>45</td>\n",
              "      <td>46</td>\n",
              "    </tr>\n",
              "    <tr>\n",
              "      <th>7</th>\n",
              "      <td>Sachin</td>\n",
              "      <td>68</td>\n",
              "      <td>89</td>\n",
              "      <td>98</td>\n",
              "    </tr>\n",
              "    <tr>\n",
              "      <th>8</th>\n",
              "      <td>Mahua</td>\n",
              "      <td>23</td>\n",
              "      <td>95</td>\n",
              "      <td>69</td>\n",
              "    </tr>\n",
              "    <tr>\n",
              "      <th>9</th>\n",
              "      <td>Sumon</td>\n",
              "      <td>0</td>\n",
              "      <td>10</td>\n",
              "      <td>35</td>\n",
              "    </tr>\n",
              "  </tbody>\n",
              "</table>\n",
              "</div>"
            ],
            "text/plain": [
              "     Name  Math  English  Physics\n",
              "0   Ankit    99       78       20\n",
              "1   Soham    58       67       50\n",
              "2   Sujan    30       34       55\n",
              "3   Sagar    40       33       43\n",
              "4    Isha    70       32       78\n",
              "5    Rony    77       21       87\n",
              "6    Remo    83       45       46\n",
              "7  Sachin    68       89       98\n",
              "8   Mahua    23       95       69\n",
              "9   Sumon     0       10       35"
            ]
          },
          "metadata": {},
          "execution_count": 22
        }
      ]
    },
    {
      "cell_type": "code",
      "metadata": {
        "colab": {
          "base_uri": "https://localhost:8080/",
          "height": 359
        },
        "id": "GepbtBSZo4AR",
        "outputId": "a14e430f-0a70-4f0e-dba9-0ffca562e94f"
      },
      "source": [
        "del result[\"Name\"]\n",
        "result"
      ],
      "execution_count": 23,
      "outputs": [
        {
          "output_type": "execute_result",
          "data": {
            "text/html": [
              "<div>\n",
              "<style scoped>\n",
              "    .dataframe tbody tr th:only-of-type {\n",
              "        vertical-align: middle;\n",
              "    }\n",
              "\n",
              "    .dataframe tbody tr th {\n",
              "        vertical-align: top;\n",
              "    }\n",
              "\n",
              "    .dataframe thead th {\n",
              "        text-align: right;\n",
              "    }\n",
              "</style>\n",
              "<table border=\"1\" class=\"dataframe\">\n",
              "  <thead>\n",
              "    <tr style=\"text-align: right;\">\n",
              "      <th></th>\n",
              "      <th>Math</th>\n",
              "      <th>English</th>\n",
              "      <th>Physics</th>\n",
              "    </tr>\n",
              "  </thead>\n",
              "  <tbody>\n",
              "    <tr>\n",
              "      <th>0</th>\n",
              "      <td>99</td>\n",
              "      <td>78</td>\n",
              "      <td>20</td>\n",
              "    </tr>\n",
              "    <tr>\n",
              "      <th>1</th>\n",
              "      <td>58</td>\n",
              "      <td>67</td>\n",
              "      <td>50</td>\n",
              "    </tr>\n",
              "    <tr>\n",
              "      <th>2</th>\n",
              "      <td>30</td>\n",
              "      <td>34</td>\n",
              "      <td>55</td>\n",
              "    </tr>\n",
              "    <tr>\n",
              "      <th>3</th>\n",
              "      <td>40</td>\n",
              "      <td>33</td>\n",
              "      <td>43</td>\n",
              "    </tr>\n",
              "    <tr>\n",
              "      <th>4</th>\n",
              "      <td>70</td>\n",
              "      <td>32</td>\n",
              "      <td>78</td>\n",
              "    </tr>\n",
              "    <tr>\n",
              "      <th>5</th>\n",
              "      <td>77</td>\n",
              "      <td>21</td>\n",
              "      <td>87</td>\n",
              "    </tr>\n",
              "    <tr>\n",
              "      <th>6</th>\n",
              "      <td>83</td>\n",
              "      <td>45</td>\n",
              "      <td>46</td>\n",
              "    </tr>\n",
              "    <tr>\n",
              "      <th>7</th>\n",
              "      <td>68</td>\n",
              "      <td>89</td>\n",
              "      <td>98</td>\n",
              "    </tr>\n",
              "    <tr>\n",
              "      <th>8</th>\n",
              "      <td>23</td>\n",
              "      <td>95</td>\n",
              "      <td>69</td>\n",
              "    </tr>\n",
              "    <tr>\n",
              "      <th>9</th>\n",
              "      <td>0</td>\n",
              "      <td>10</td>\n",
              "      <td>35</td>\n",
              "    </tr>\n",
              "  </tbody>\n",
              "</table>\n",
              "</div>"
            ],
            "text/plain": [
              "   Math  English  Physics\n",
              "0    99       78       20\n",
              "1    58       67       50\n",
              "2    30       34       55\n",
              "3    40       33       43\n",
              "4    70       32       78\n",
              "5    77       21       87\n",
              "6    83       45       46\n",
              "7    68       89       98\n",
              "8    23       95       69\n",
              "9     0       10       35"
            ]
          },
          "metadata": {},
          "execution_count": 23
        }
      ]
    },
    {
      "cell_type": "markdown",
      "metadata": {
        "id": "QI3hsOS8tWzW"
      },
      "source": [
        "# **Matplotlib**\n",
        "Matplotlib, a great library for Data Visualization."
      ]
    },
    {
      "cell_type": "code",
      "metadata": {
        "id": "26hvMlYYtc3s"
      },
      "source": [
        "import matplotlib.pyplot as plt"
      ],
      "execution_count": 24,
      "outputs": []
    },
    {
      "cell_type": "markdown",
      "metadata": {
        "id": "QLcqCBzrtzaz"
      },
      "source": [
        "**Students marks plot**"
      ]
    },
    {
      "cell_type": "code",
      "metadata": {
        "colab": {
          "base_uri": "https://localhost:8080/",
          "height": 282
        },
        "id": "qy-P-OTJvJyo",
        "outputId": "8558e2b6-b11e-4df8-f7fd-d7fdb6ceda6c"
      },
      "source": [
        "math_result = df[\"math score\"][:5]\n",
        "reading = df[\"reading score\"][:5]\n",
        "plt.bar( math_result, reading)"
      ],
      "execution_count": 25,
      "outputs": [
        {
          "output_type": "execute_result",
          "data": {
            "text/plain": [
              "<BarContainer object of 5 artists>"
            ]
          },
          "metadata": {},
          "execution_count": 25
        },
        {
          "output_type": "display_data",
          "data": {
            "image/png": "[encoded data removed]",
            "text/plain": [
              "<Figure size 432x288 with 1 Axes>"
            ]
          },
          "metadata": {
            "needs_background": "light"
          }
        }
      ]
    },
    {
      "cell_type": "markdown",
      "metadata": {
        "id": "5t3tB4irxSoJ"
      },
      "source": [
        "# **Seaborn**\n",
        "Seaborn is a data visualization library built on top of matplotlib and closely integrated with pandas data structures in Python. Visualization is the central part of Seaborn which helps in exploration and understanding of data.\n",
        "\n",
        "Using Seaborn we can plot wide varieties of plots like:\n",
        "\n",
        "**Distribution Plots**\n",
        "\n",
        "**Pie Chart & Bar Chart**\n",
        "\n",
        "**Scatter Plots**\n",
        "\n",
        "**Pair Plots**\n",
        "\n",
        "**Heat maps**"
      ]
    },
    {
      "cell_type": "code",
      "metadata": {
        "id": "ALJ8lEJ-xa1N"
      },
      "source": [
        "import seaborn as sns\n",
        "sns.set_theme()\n",
        "pd.set_option('max_columns',23)\n",
        "pd.set_option('max_rows',123)"
      ],
      "execution_count": 26,
      "outputs": []
    },
    {
      "cell_type": "markdown",
      "metadata": {
        "id": "KLyqf_q1z3vq"
      },
      "source": [
        "# **Distribution Plots**\n",
        "We can compare the distribution plot in Seaborn to histograms in Matplotlib. They both offer pretty similar functionalities. Instead of frequency plots in the histogram, here we’ll plot an approximate probability density across the y-axis.\n",
        "We will be using **sns.distplot()** in the code to plot distribution graphs."
      ]
    },
    {
      "cell_type": "code",
      "metadata": {
        "colab": {
          "base_uri": "https://localhost:8080/",
          "height": 356
        },
        "id": "lzzfIMTZz_Jm",
        "outputId": "ecb3e824-e004-46e7-b169-a5ce6746a085"
      },
      "source": [
        "sns.distplot(df['math score'])"
      ],
      "execution_count": 28,
      "outputs": [
        {
          "output_type": "stream",
          "name": "stderr",
          "text": [
            "/usr/local/lib/python3.7/dist-packages/seaborn/distributions.py:2557: FutureWarning: `distplot` is a deprecated function and will be removed in a future version. Please adapt your code to use either `displot` (a figure-level function with similar flexibility) or `histplot` (an axes-level function for histograms).\n",
            "  warnings.warn(msg, FutureWarning)\n"
          ]
        },
        {
          "output_type": "execute_result",
          "data": {
            "text/plain": [
              "<matplotlib.axes._subplots.AxesSubplot at 0x7fdfa4650c90>"
            ]
          },
          "metadata": {},
          "execution_count": 28
        },
        {
          "output_type": "display_data",
          "data": {
            "image/png": "[encoded data removed]",
            "text/plain": [
              "<Figure size 432x288 with 1 Axes>"
            ]
          },
          "metadata": {}
        }
      ]
    },
    {
      "cell_type": "code",
      "metadata": {
        "id": "K-05s9w_tE-b"
      },
      "source": [
        "df['Math_Result'] = np.where(df['math score']>=35,'Pass','Fail')\n",
        "df['reading_Result'] = np.where(df['math score']>=35,'Pass','Fail')\n",
        "df['writing_Result'] = np.where(df['math score']>=35,'Pass','Fail')"
      ],
      "execution_count": 29,
      "outputs": []
    },
    {
      "cell_type": "code",
      "metadata": {
        "id": "lWiwEJebtJ_C"
      },
      "source": [
        "df.columns\n",
        "df['Result'] = df.apply(lambda x: 'Passed' if x['Math_Result'] == 'Pass' and x['reading_Result'] == 'Pass' and x['writing_Result'] == 'Pass' else 'Failed'\n",
        "                        ,axis=1)"
      ],
      "execution_count": 30,
      "outputs": []
    },
    {
      "cell_type": "markdown",
      "metadata": {
        "id": "QoyoVMvaAY9Y"
      },
      "source": [
        "# **seaborn.kdeplot**\n",
        "A kernel density estimate (KDE) plot is a method for visualizing the distribution of observations in a dataset, analagous to a histogram. KDE represents the data using a continuous probability density curve in one or more dimensions."
      ]
    },
    {
      "cell_type": "code",
      "metadata": {
        "colab": {
          "base_uri": "https://localhost:8080/",
          "height": 515
        },
        "id": "DcnkH8l9t5RM",
        "outputId": "b42c85f2-3ce6-4ad8-c091-9aed5b631978"
      },
      "source": [
        "plt.figure(figsize=(10,7))\n",
        "plt.suptitle('Density Plot of Marks',fontsize=18)\n",
        "\n",
        "sns.kdeplot(x=df['math score'],shade=True,alpha=.3,palette='crest',label='math score',linewidth=0)\n",
        "sns.kdeplot(x=df['reading score'],shade=True,alpha=.3,palette='crest',label='reading score',linewidth=0)\n",
        "sns.kdeplot(x=df['writing score'],shade=True,alpha=.3,palette='crest',label='writing score',linewidth=0)\n",
        "\n",
        "plt.legend()\n",
        "plt.xlabel('Marks')"
      ],
      "execution_count": 31,
      "outputs": [
        {
          "output_type": "execute_result",
          "data": {
            "text/plain": [
              "Text(0.5, 0, 'Marks')"
            ]
          },
          "metadata": {},
          "execution_count": 31
        },
        {
          "output_type": "display_data",
          "data": {
            "image/png": "[encoded data removed]",
            "text/plain": [
              "<Figure size 720x504 with 1 Axes>"
            ]
          },
          "metadata": {}
        }
      ]
    },
    {
      "cell_type": "code",
      "metadata": {
        "id": "s3w0EhzsyG4s"
      },
      "source": [
        "import matplotlib.gridspec as gridspec"
      ],
      "execution_count": 32,
      "outputs": []
    },
    {
      "cell_type": "markdown",
      "metadata": {
        "id": "2-v_Dlg3y2zB"
      },
      "source": [
        "**Ploting Categorical Features**\n",
        "\n",
        "seaborn.countplot() method is used to Show the counts of observations in each categorical bin using bars."
      ]
    },
    {
      "cell_type": "code",
      "metadata": {
        "colab": {
          "base_uri": "https://localhost:8080/",
          "height": 339
        },
        "id": "3FHUBhLex-Is",
        "outputId": "b39202b8-cbeb-4af7-8ca7-b49b42d49608"
      },
      "source": [
        "#Ploting Categorical Features\n",
        "\n",
        "fig = plt.figure(figsize=(15,5))\n",
        "grid = gridspec.GridSpec(1,4)\n",
        "grid.update(wspace=0.4)\n",
        "lis = ['Math_Result','reading_Result','writing_Result','Result']\n",
        "for indx,i in enumerate(lis):\n",
        "    ax=plt.subplot(grid[0,indx])\n",
        "    sns.countplot(data=df,x=i,ax=ax)"
      ],
      "execution_count": 33,
      "outputs": [
        {
          "output_type": "display_data",
          "data": {
            "image/png": "[encoded data removed]",
            "text/plain": [
              "<Figure size 1080x360 with 4 Axes>"
            ]
          },
          "metadata": {}
        }
      ]
    },
    {
      "cell_type": "code",
      "metadata": {
        "colab": {
          "base_uri": "https://localhost:8080/",
          "height": 1000
        },
        "id": "Z-StQFzIysbl",
        "outputId": "31ca75f8-0a69-4ebb-a401-bb6e2196b6fa"
      },
      "source": [
        "#cats X Result countplot\n",
        "\n",
        "cats = [col for col in df.columns if df[col].dtype =='object']\n",
        "nums = [col for col in df.columns if df[col].dtype =='int64']\n",
        "\n",
        "\n",
        "pltcats =  cats[:4]\n",
        "for indx,cat in enumerate(pltcats):\n",
        "        \n",
        "    rt = sns.countplot(data=df,x=cat,hue='Result')\n",
        "\n",
        "    text_ln = len(str(rt.get_xticklabels()[0]))\n",
        "    if text_ln > 25:\n",
        "        rt.set_xticklabels(rt.get_xticklabels(),rotation = 30)\n",
        "    else:\n",
        "        pass\n",
        "    plt.show()"
      ],
      "execution_count": 34,
      "outputs": [
        {
          "output_type": "display_data",
          "data": {
            "image/png": "[encoded data removed]",
            "text/plain": [
              "<Figure size 432x288 with 1 Axes>"
            ]
          },
          "metadata": {}
        },
        {
          "output_type": "display_data",
          "data": {
            "image/png": "[encoded data removed]",
            "text/plain": [
              "<Figure size 432x288 with 1 Axes>"
            ]
          },
          "metadata": {}
        },
        {
          "output_type": "display_data",
          "data": {
            "image/png": "[encoded data removed]",
            "text/plain": [
              "<Figure size 432x288 with 1 Axes>"
            ]
          },
          "metadata": {}
        },
        {
          "output_type": "display_data",
          "data": {
            "image/png": "[encoded data removed]",
            "text/plain": [
              "<Figure size 432x288 with 1 Axes>"
            ]
          },
          "metadata": {}
        }
      ]
    },
    {
      "cell_type": "markdown",
      "metadata": {
        "id": "GNi9shfYBDn_"
      },
      "source": [
        "# ** Pie Chart & Bar Chart**\n",
        "Pie Chart is generally used to analyze the data on how a numeric variable changes across different categories.\n",
        "\n"
      ]
    },
    {
      "cell_type": "code",
      "metadata": {
        "colab": {
          "base_uri": "https://localhost:8080/"
        },
        "id": "OEuxJ2jGBCiB",
        "outputId": "083eeb6c-ae24-458a-fb89-dc1f9ecc6007"
      },
      "source": [
        "df['gender'].value_counts()"
      ],
      "execution_count": 35,
      "outputs": [
        {
          "output_type": "execute_result",
          "data": {
            "text/plain": [
              "female    518\n",
              "male      482\n",
              "Name: gender, dtype: int64"
            ]
          },
          "metadata": {},
          "execution_count": 35
        }
      ]
    },
    {
      "cell_type": "code",
      "metadata": {
        "colab": {
          "base_uri": "https://localhost:8080/",
          "height": 411
        },
        "id": "i0NzVeclBzm3",
        "outputId": "06100e96-befb-4999-f97a-7c1a48cca99a"
      },
      "source": [
        "#plotting a pie chart\n",
        "plt.figure(figsize=[9,7])\n",
        "df['gender'].value_counts().plot.pie()\n",
        "plt.show()"
      ],
      "execution_count": 36,
      "outputs": [
        {
          "output_type": "display_data",
          "data": {
            "image/png": "[encoded data removed]",
            "text/plain": [
              "<Figure size 648x504 with 1 Axes>"
            ]
          },
          "metadata": {}
        }
      ]
    },
    {
      "cell_type": "markdown",
      "metadata": {
        "id": "G9JLBmFGCHob"
      },
      "source": [
        "# **Calculating and adding new features Total_marks and Percentage**\n"
      ]
    },
    {
      "cell_type": "code",
      "metadata": {
        "id": "k9F1fEAeCRiZ"
      },
      "source": [
        "df.columns\n",
        "df['Total_marks'] = df['math score'] + df['reading score'] + df['writing score']\n",
        "df['Percentage'] = df['Total_marks']/3"
      ],
      "execution_count": 37,
      "outputs": []
    },
    {
      "cell_type": "code",
      "metadata": {
        "id": "J2PqGOcSCYMY"
      },
      "source": [
        "def Grading(per,result):\n",
        "    if result=='Failed':\n",
        "        return 'F'\n",
        "    elif per>90:\n",
        "        return 'A1'\n",
        "    elif per>83:\n",
        "        return 'A2'\n",
        "    elif per>75:\n",
        "        return 'B1'\n",
        "    elif per>67:\n",
        "        return 'B2'\n",
        "    elif per>59:\n",
        "        return 'C1'\n",
        "    elif per>51:\n",
        "        return 'C2'\n",
        "    elif per>43:\n",
        "        return 'D1'\n",
        "    elif per>35:\n",
        "        return 'D2'\n",
        "    \n",
        "df['Grading'] = df.apply(lambda x: Grading(x['Percentage'],x['Result']),axis=1)"
      ],
      "execution_count": 38,
      "outputs": []
    },
    {
      "cell_type": "markdown",
      "metadata": {
        "id": "2tD41xP9Cg-w"
      },
      "source": [
        "# **Styling DataFrame on the basis of Results (last cell in a row)**"
      ]
    },
    {
      "cell_type": "code",
      "metadata": {
        "colab": {
          "base_uri": "https://localhost:8080/",
          "height": 562
        },
        "id": "6QJN3hCICmB5",
        "outputId": "b8095d64-489c-48d7-844f-5af8b479a3a7"
      },
      "source": [
        "def colorrow(x):\n",
        "    length = x.shape[0]\n",
        "    if x['Result'] == 'Failed':\n",
        "        return [''] * (length-1) + ['background-color: #FF4A35']\n",
        "    elif x['Result'] == 'Passed':\n",
        "        return [''] * (length-1) + ['background-color: #A6FF57'] \n",
        "\n",
        "df.head(20).style.apply(colorrow,axis=1)"
      ],
      "execution_count": 39,
      "outputs": [
        {
          "output_type": "execute_result",
          "data": {
            "text/html": [
              "<style  type=\"text/css\" >\n",
              "#T_52e1d528_0c74_11ec_9bc3_0242ac1c0002row0_col14,#T_52e1d528_0c74_11ec_9bc3_0242ac1c0002row1_col14,#T_52e1d528_0c74_11ec_9bc3_0242ac1c0002row2_col14,#T_52e1d528_0c74_11ec_9bc3_0242ac1c0002row3_col14,#T_52e1d528_0c74_11ec_9bc3_0242ac1c0002row4_col14,#T_52e1d528_0c74_11ec_9bc3_0242ac1c0002row5_col14,#T_52e1d528_0c74_11ec_9bc3_0242ac1c0002row6_col14,#T_52e1d528_0c74_11ec_9bc3_0242ac1c0002row7_col14,#T_52e1d528_0c74_11ec_9bc3_0242ac1c0002row8_col14,#T_52e1d528_0c74_11ec_9bc3_0242ac1c0002row9_col14,#T_52e1d528_0c74_11ec_9bc3_0242ac1c0002row10_col14,#T_52e1d528_0c74_11ec_9bc3_0242ac1c0002row11_col14,#T_52e1d528_0c74_11ec_9bc3_0242ac1c0002row12_col14,#T_52e1d528_0c74_11ec_9bc3_0242ac1c0002row13_col14,#T_52e1d528_0c74_11ec_9bc3_0242ac1c0002row14_col14,#T_52e1d528_0c74_11ec_9bc3_0242ac1c0002row15_col14,#T_52e1d528_0c74_11ec_9bc3_0242ac1c0002row16_col14,#T_52e1d528_0c74_11ec_9bc3_0242ac1c0002row18_col14,#T_52e1d528_0c74_11ec_9bc3_0242ac1c0002row19_col14{\n",
              "            background-color:  #A6FF57;\n",
              "        }#T_52e1d528_0c74_11ec_9bc3_0242ac1c0002row17_col14{\n",
              "            background-color:  #FF4A35;\n",
              "        }</style><table id=\"T_52e1d528_0c74_11ec_9bc3_0242ac1c0002\" ><thead>    <tr>        <th class=\"blank level0\" ></th>        <th class=\"col_heading level0 col0\" >gender</th>        <th class=\"col_heading level0 col1\" >race/ethnicity</th>        <th class=\"col_heading level0 col2\" >parental level of education</th>        <th class=\"col_heading level0 col3\" >lunch</th>        <th class=\"col_heading level0 col4\" >test preparation course</th>        <th class=\"col_heading level0 col5\" >math score</th>        <th class=\"col_heading level0 col6\" >reading score</th>        <th class=\"col_heading level0 col7\" >writing score</th>        <th class=\"col_heading level0 col8\" >Math_Result</th>        <th class=\"col_heading level0 col9\" >reading_Result</th>        <th class=\"col_heading level0 col10\" >writing_Result</th>        <th class=\"col_heading level0 col11\" >Result</th>        <th class=\"col_heading level0 col12\" >Total_marks</th>        <th class=\"col_heading level0 col13\" >Percentage</th>        <th class=\"col_heading level0 col14\" >Grading</th>    </tr></thead><tbody>\n",
              "                <tr>\n",
              "                        <th id=\"T_52e1d528_0c74_11ec_9bc3_0242ac1c0002level0_row0\" class=\"row_heading level0 row0\" >0</th>\n",
              "                        <td id=\"T_52e1d528_0c74_11ec_9bc3_0242ac1c0002row0_col0\" class=\"data row0 col0\" >female</td>\n",
              "                        <td id=\"T_52e1d528_0c74_11ec_9bc3_0242ac1c0002row0_col1\" class=\"data row0 col1\" >group B</td>\n",
              "                        <td id=\"T_52e1d528_0c74_11ec_9bc3_0242ac1c0002row0_col2\" class=\"data row0 col2\" >bachelor's degree</td>\n",
              "                        <td id=\"T_52e1d528_0c74_11ec_9bc3_0242ac1c0002row0_col3\" class=\"data row0 col3\" >standard</td>\n",
              "                        <td id=\"T_52e1d528_0c74_11ec_9bc3_0242ac1c0002row0_col4\" class=\"data row0 col4\" >none</td>\n",
              "                        <td id=\"T_52e1d528_0c74_11ec_9bc3_0242ac1c0002row0_col5\" class=\"data row0 col5\" >72</td>\n",
              "                        <td id=\"T_52e1d528_0c74_11ec_9bc3_0242ac1c0002row0_col6\" class=\"data row0 col6\" >72</td>\n",
              "                        <td id=\"T_52e1d528_0c74_11ec_9bc3_0242ac1c0002row0_col7\" class=\"data row0 col7\" >74</td>\n",
              "                        <td id=\"T_52e1d528_0c74_11ec_9bc3_0242ac1c0002row0_col8\" class=\"data row0 col8\" >Pass</td>\n",
              "                        <td id=\"T_52e1d528_0c74_11ec_9bc3_0242ac1c0002row0_col9\" class=\"data row0 col9\" >Pass</td>\n",
              "                        <td id=\"T_52e1d528_0c74_11ec_9bc3_0242ac1c0002row0_col10\" class=\"data row0 col10\" >Pass</td>\n",
              "                        <td id=\"T_52e1d528_0c74_11ec_9bc3_0242ac1c0002row0_col11\" class=\"data row0 col11\" >Passed</td>\n",
              "                        <td id=\"T_52e1d528_0c74_11ec_9bc3_0242ac1c0002row0_col12\" class=\"data row0 col12\" >218</td>\n",
              "                        <td id=\"T_52e1d528_0c74_11ec_9bc3_0242ac1c0002row0_col13\" class=\"data row0 col13\" >72.666667</td>\n",
              "                        <td id=\"T_52e1d528_0c74_11ec_9bc3_0242ac1c0002row0_col14\" class=\"data row0 col14\" >B2</td>\n",
              "            </tr>\n",
              "            <tr>\n",
              "                        <th id=\"T_52e1d528_0c74_11ec_9bc3_0242ac1c0002level0_row1\" class=\"row_heading level0 row1\" >1</th>\n",
              "                        <td id=\"T_52e1d528_0c74_11ec_9bc3_0242ac1c0002row1_col0\" class=\"data row1 col0\" >female</td>\n",
              "                        <td id=\"T_52e1d528_0c74_11ec_9bc3_0242ac1c0002row1_col1\" class=\"data row1 col1\" >group C</td>\n",
              "                        <td id=\"T_52e1d528_0c74_11ec_9bc3_0242ac1c0002row1_col2\" class=\"data row1 col2\" >some college</td>\n",
              "                        <td id=\"T_52e1d528_0c74_11ec_9bc3_0242ac1c0002row1_col3\" class=\"data row1 col3\" >standard</td>\n",
              "                        <td id=\"T_52e1d528_0c74_11ec_9bc3_0242ac1c0002row1_col4\" class=\"data row1 col4\" >completed</td>\n",
              "                        <td id=\"T_52e1d528_0c74_11ec_9bc3_0242ac1c0002row1_col5\" class=\"data row1 col5\" >69</td>\n",
              "                        <td id=\"T_52e1d528_0c74_11ec_9bc3_0242ac1c0002row1_col6\" class=\"data row1 col6\" >90</td>\n",
              "                        <td id=\"T_52e1d528_0c74_11ec_9bc3_0242ac1c0002row1_col7\" class=\"data row1 col7\" >88</td>\n",
              "                        <td id=\"T_52e1d528_0c74_11ec_9bc3_0242ac1c0002row1_col8\" class=\"data row1 col8\" >Pass</td>\n",
              "                        <td id=\"T_52e1d528_0c74_11ec_9bc3_0242ac1c0002row1_col9\" class=\"data row1 col9\" >Pass</td>\n",
              "                        <td id=\"T_52e1d528_0c74_11ec_9bc3_0242ac1c0002row1_col10\" class=\"data row1 col10\" >Pass</td>\n",
              "                        <td id=\"T_52e1d528_0c74_11ec_9bc3_0242ac1c0002row1_col11\" class=\"data row1 col11\" >Passed</td>\n",
              "                        <td id=\"T_52e1d528_0c74_11ec_9bc3_0242ac1c0002row1_col12\" class=\"data row1 col12\" >247</td>\n",
              "                        <td id=\"T_52e1d528_0c74_11ec_9bc3_0242ac1c0002row1_col13\" class=\"data row1 col13\" >82.333333</td>\n",
              "                        <td id=\"T_52e1d528_0c74_11ec_9bc3_0242ac1c0002row1_col14\" class=\"data row1 col14\" >B1</td>\n",
              "            </tr>\n",
              "            <tr>\n",
              "                        <th id=\"T_52e1d528_0c74_11ec_9bc3_0242ac1c0002level0_row2\" class=\"row_heading level0 row2\" >2</th>\n",
              "                        <td id=\"T_52e1d528_0c74_11ec_9bc3_0242ac1c0002row2_col0\" class=\"data row2 col0\" >female</td>\n",
              "                        <td id=\"T_52e1d528_0c74_11ec_9bc3_0242ac1c0002row2_col1\" class=\"data row2 col1\" >group B</td>\n",
              "                        <td id=\"T_52e1d528_0c74_11ec_9bc3_0242ac1c0002row2_col2\" class=\"data row2 col2\" >master's degree</td>\n",
              "                        <td id=\"T_52e1d528_0c74_11ec_9bc3_0242ac1c0002row2_col3\" class=\"data row2 col3\" >standard</td>\n",
              "                        <td id=\"T_52e1d528_0c74_11ec_9bc3_0242ac1c0002row2_col4\" class=\"data row2 col4\" >none</td>\n",
              "                        <td id=\"T_52e1d528_0c74_11ec_9bc3_0242ac1c0002row2_col5\" class=\"data row2 col5\" >90</td>\n",
              "                        <td id=\"T_52e1d528_0c74_11ec_9bc3_0242ac1c0002row2_col6\" class=\"data row2 col6\" >95</td>\n",
              "                        <td id=\"T_52e1d528_0c74_11ec_9bc3_0242ac1c0002row2_col7\" class=\"data row2 col7\" >93</td>\n",
              "                        <td id=\"T_52e1d528_0c74_11ec_9bc3_0242ac1c0002row2_col8\" class=\"data row2 col8\" >Pass</td>\n",
              "                        <td id=\"T_52e1d528_0c74_11ec_9bc3_0242ac1c0002row2_col9\" class=\"data row2 col9\" >Pass</td>\n",
              "                        <td id=\"T_52e1d528_0c74_11ec_9bc3_0242ac1c0002row2_col10\" class=\"data row2 col10\" >Pass</td>\n",
              "                        <td id=\"T_52e1d528_0c74_11ec_9bc3_0242ac1c0002row2_col11\" class=\"data row2 col11\" >Passed</td>\n",
              "                        <td id=\"T_52e1d528_0c74_11ec_9bc3_0242ac1c0002row2_col12\" class=\"data row2 col12\" >278</td>\n",
              "                        <td id=\"T_52e1d528_0c74_11ec_9bc3_0242ac1c0002row2_col13\" class=\"data row2 col13\" >92.666667</td>\n",
              "                        <td id=\"T_52e1d528_0c74_11ec_9bc3_0242ac1c0002row2_col14\" class=\"data row2 col14\" >A1</td>\n",
              "            </tr>\n",
              "            <tr>\n",
              "                        <th id=\"T_52e1d528_0c74_11ec_9bc3_0242ac1c0002level0_row3\" class=\"row_heading level0 row3\" >3</th>\n",
              "                        <td id=\"T_52e1d528_0c74_11ec_9bc3_0242ac1c0002row3_col0\" class=\"data row3 col0\" >male</td>\n",
              "                        <td id=\"T_52e1d528_0c74_11ec_9bc3_0242ac1c0002row3_col1\" class=\"data row3 col1\" >group A</td>\n",
              "                        <td id=\"T_52e1d528_0c74_11ec_9bc3_0242ac1c0002row3_col2\" class=\"data row3 col2\" >associate's degree</td>\n",
              "                        <td id=\"T_52e1d528_0c74_11ec_9bc3_0242ac1c0002row3_col3\" class=\"data row3 col3\" >free/reduced</td>\n",
              "                        <td id=\"T_52e1d528_0c74_11ec_9bc3_0242ac1c0002row3_col4\" class=\"data row3 col4\" >none</td>\n",
              "                        <td id=\"T_52e1d528_0c74_11ec_9bc3_0242ac1c0002row3_col5\" class=\"data row3 col5\" >47</td>\n",
              "                        <td id=\"T_52e1d528_0c74_11ec_9bc3_0242ac1c0002row3_col6\" class=\"data row3 col6\" >57</td>\n",
              "                        <td id=\"T_52e1d528_0c74_11ec_9bc3_0242ac1c0002row3_col7\" class=\"data row3 col7\" >44</td>\n",
              "                        <td id=\"T_52e1d528_0c74_11ec_9bc3_0242ac1c0002row3_col8\" class=\"data row3 col8\" >Pass</td>\n",
              "                        <td id=\"T_52e1d528_0c74_11ec_9bc3_0242ac1c0002row3_col9\" class=\"data row3 col9\" >Pass</td>\n",
              "                        <td id=\"T_52e1d528_0c74_11ec_9bc3_0242ac1c0002row3_col10\" class=\"data row3 col10\" >Pass</td>\n",
              "                        <td id=\"T_52e1d528_0c74_11ec_9bc3_0242ac1c0002row3_col11\" class=\"data row3 col11\" >Passed</td>\n",
              "                        <td id=\"T_52e1d528_0c74_11ec_9bc3_0242ac1c0002row3_col12\" class=\"data row3 col12\" >148</td>\n",
              "                        <td id=\"T_52e1d528_0c74_11ec_9bc3_0242ac1c0002row3_col13\" class=\"data row3 col13\" >49.333333</td>\n",
              "                        <td id=\"T_52e1d528_0c74_11ec_9bc3_0242ac1c0002row3_col14\" class=\"data row3 col14\" >D1</td>\n",
              "            </tr>\n",
              "            <tr>\n",
              "                        <th id=\"T_52e1d528_0c74_11ec_9bc3_0242ac1c0002level0_row4\" class=\"row_heading level0 row4\" >4</th>\n",
              "                        <td id=\"T_52e1d528_0c74_11ec_9bc3_0242ac1c0002row4_col0\" class=\"data row4 col0\" >male</td>\n",
              "                        <td id=\"T_52e1d528_0c74_11ec_9bc3_0242ac1c0002row4_col1\" class=\"data row4 col1\" >group C</td>\n",
              "                        <td id=\"T_52e1d528_0c74_11ec_9bc3_0242ac1c0002row4_col2\" class=\"data row4 col2\" >some college</td>\n",
              "                        <td id=\"T_52e1d528_0c74_11ec_9bc3_0242ac1c0002row4_col3\" class=\"data row4 col3\" >standard</td>\n",
              "                        <td id=\"T_52e1d528_0c74_11ec_9bc3_0242ac1c0002row4_col4\" class=\"data row4 col4\" >none</td>\n",
              "                        <td id=\"T_52e1d528_0c74_11ec_9bc3_0242ac1c0002row4_col5\" class=\"data row4 col5\" >76</td>\n",
              "                        <td id=\"T_52e1d528_0c74_11ec_9bc3_0242ac1c0002row4_col6\" class=\"data row4 col6\" >78</td>\n",
              "                        <td id=\"T_52e1d528_0c74_11ec_9bc3_0242ac1c0002row4_col7\" class=\"data row4 col7\" >75</td>\n",
              "                        <td id=\"T_52e1d528_0c74_11ec_9bc3_0242ac1c0002row4_col8\" class=\"data row4 col8\" >Pass</td>\n",
              "                        <td id=\"T_52e1d528_0c74_11ec_9bc3_0242ac1c0002row4_col9\" class=\"data row4 col9\" >Pass</td>\n",
              "                        <td id=\"T_52e1d528_0c74_11ec_9bc3_0242ac1c0002row4_col10\" class=\"data row4 col10\" >Pass</td>\n",
              "                        <td id=\"T_52e1d528_0c74_11ec_9bc3_0242ac1c0002row4_col11\" class=\"data row4 col11\" >Passed</td>\n",
              "                        <td id=\"T_52e1d528_0c74_11ec_9bc3_0242ac1c0002row4_col12\" class=\"data row4 col12\" >229</td>\n",
              "                        <td id=\"T_52e1d528_0c74_11ec_9bc3_0242ac1c0002row4_col13\" class=\"data row4 col13\" >76.333333</td>\n",
              "                        <td id=\"T_52e1d528_0c74_11ec_9bc3_0242ac1c0002row4_col14\" class=\"data row4 col14\" >B1</td>\n",
              "            </tr>\n",
              "            <tr>\n",
              "                        <th id=\"T_52e1d528_0c74_11ec_9bc3_0242ac1c0002level0_row5\" class=\"row_heading level0 row5\" >5</th>\n",
              "                        <td id=\"T_52e1d528_0c74_11ec_9bc3_0242ac1c0002row5_col0\" class=\"data row5 col0\" >female</td>\n",
              "                        <td id=\"T_52e1d528_0c74_11ec_9bc3_0242ac1c0002row5_col1\" class=\"data row5 col1\" >group B</td>\n",
              "                        <td id=\"T_52e1d528_0c74_11ec_9bc3_0242ac1c0002row5_col2\" class=\"data row5 col2\" >associate's degree</td>\n",
              "                        <td id=\"T_52e1d528_0c74_11ec_9bc3_0242ac1c0002row5_col3\" class=\"data row5 col3\" >standard</td>\n",
              "                        <td id=\"T_52e1d528_0c74_11ec_9bc3_0242ac1c0002row5_col4\" class=\"data row5 col4\" >none</td>\n",
              "                        <td id=\"T_52e1d528_0c74_11ec_9bc3_0242ac1c0002row5_col5\" class=\"data row5 col5\" >71</td>\n",
              "                        <td id=\"T_52e1d528_0c74_11ec_9bc3_0242ac1c0002row5_col6\" class=\"data row5 col6\" >83</td>\n",
              "                        <td id=\"T_52e1d528_0c74_11ec_9bc3_0242ac1c0002row5_col7\" class=\"data row5 col7\" >78</td>\n",
              "                        <td id=\"T_52e1d528_0c74_11ec_9bc3_0242ac1c0002row5_col8\" class=\"data row5 col8\" >Pass</td>\n",
              "                        <td id=\"T_52e1d528_0c74_11ec_9bc3_0242ac1c0002row5_col9\" class=\"data row5 col9\" >Pass</td>\n",
              "                        <td id=\"T_52e1d528_0c74_11ec_9bc3_0242ac1c0002row5_col10\" class=\"data row5 col10\" >Pass</td>\n",
              "                        <td id=\"T_52e1d528_0c74_11ec_9bc3_0242ac1c0002row5_col11\" class=\"data row5 col11\" >Passed</td>\n",
              "                        <td id=\"T_52e1d528_0c74_11ec_9bc3_0242ac1c0002row5_col12\" class=\"data row5 col12\" >232</td>\n",
              "                        <td id=\"T_52e1d528_0c74_11ec_9bc3_0242ac1c0002row5_col13\" class=\"data row5 col13\" >77.333333</td>\n",
              "                        <td id=\"T_52e1d528_0c74_11ec_9bc3_0242ac1c0002row5_col14\" class=\"data row5 col14\" >B1</td>\n",
              "            </tr>\n",
              "            <tr>\n",
              "                        <th id=\"T_52e1d528_0c74_11ec_9bc3_0242ac1c0002level0_row6\" class=\"row_heading level0 row6\" >6</th>\n",
              "                        <td id=\"T_52e1d528_0c74_11ec_9bc3_0242ac1c0002row6_col0\" class=\"data row6 col0\" >female</td>\n",
              "                        <td id=\"T_52e1d528_0c74_11ec_9bc3_0242ac1c0002row6_col1\" class=\"data row6 col1\" >group B</td>\n",
              "                        <td id=\"T_52e1d528_0c74_11ec_9bc3_0242ac1c0002row6_col2\" class=\"data row6 col2\" >some college</td>\n",
              "                        <td id=\"T_52e1d528_0c74_11ec_9bc3_0242ac1c0002row6_col3\" class=\"data row6 col3\" >standard</td>\n",
              "                        <td id=\"T_52e1d528_0c74_11ec_9bc3_0242ac1c0002row6_col4\" class=\"data row6 col4\" >completed</td>\n",
              "                        <td id=\"T_52e1d528_0c74_11ec_9bc3_0242ac1c0002row6_col5\" class=\"data row6 col5\" >88</td>\n",
              "                        <td id=\"T_52e1d528_0c74_11ec_9bc3_0242ac1c0002row6_col6\" class=\"data row6 col6\" >95</td>\n",
              "                        <td id=\"T_52e1d528_0c74_11ec_9bc3_0242ac1c0002row6_col7\" class=\"data row6 col7\" >92</td>\n",
              "                        <td id=\"T_52e1d528_0c74_11ec_9bc3_0242ac1c0002row6_col8\" class=\"data row6 col8\" >Pass</td>\n",
              "                        <td id=\"T_52e1d528_0c74_11ec_9bc3_0242ac1c0002row6_col9\" class=\"data row6 col9\" >Pass</td>\n",
              "                        <td id=\"T_52e1d528_0c74_11ec_9bc3_0242ac1c0002row6_col10\" class=\"data row6 col10\" >Pass</td>\n",
              "                        <td id=\"T_52e1d528_0c74_11ec_9bc3_0242ac1c0002row6_col11\" class=\"data row6 col11\" >Passed</td>\n",
              "                        <td id=\"T_52e1d528_0c74_11ec_9bc3_0242ac1c0002row6_col12\" class=\"data row6 col12\" >275</td>\n",
              "                        <td id=\"T_52e1d528_0c74_11ec_9bc3_0242ac1c0002row6_col13\" class=\"data row6 col13\" >91.666667</td>\n",
              "                        <td id=\"T_52e1d528_0c74_11ec_9bc3_0242ac1c0002row6_col14\" class=\"data row6 col14\" >A1</td>\n",
              "            </tr>\n",
              "            <tr>\n",
              "                        <th id=\"T_52e1d528_0c74_11ec_9bc3_0242ac1c0002level0_row7\" class=\"row_heading level0 row7\" >7</th>\n",
              "                        <td id=\"T_52e1d528_0c74_11ec_9bc3_0242ac1c0002row7_col0\" class=\"data row7 col0\" >male</td>\n",
              "                        <td id=\"T_52e1d528_0c74_11ec_9bc3_0242ac1c0002row7_col1\" class=\"data row7 col1\" >group B</td>\n",
              "                        <td id=\"T_52e1d528_0c74_11ec_9bc3_0242ac1c0002row7_col2\" class=\"data row7 col2\" >some college</td>\n",
              "                        <td id=\"T_52e1d528_0c74_11ec_9bc3_0242ac1c0002row7_col3\" class=\"data row7 col3\" >free/reduced</td>\n",
              "                        <td id=\"T_52e1d528_0c74_11ec_9bc3_0242ac1c0002row7_col4\" class=\"data row7 col4\" >none</td>\n",
              "                        <td id=\"T_52e1d528_0c74_11ec_9bc3_0242ac1c0002row7_col5\" class=\"data row7 col5\" >40</td>\n",
              "                        <td id=\"T_52e1d528_0c74_11ec_9bc3_0242ac1c0002row7_col6\" class=\"data row7 col6\" >43</td>\n",
              "                        <td id=\"T_52e1d528_0c74_11ec_9bc3_0242ac1c0002row7_col7\" class=\"data row7 col7\" >39</td>\n",
              "                        <td id=\"T_52e1d528_0c74_11ec_9bc3_0242ac1c0002row7_col8\" class=\"data row7 col8\" >Pass</td>\n",
              "                        <td id=\"T_52e1d528_0c74_11ec_9bc3_0242ac1c0002row7_col9\" class=\"data row7 col9\" >Pass</td>\n",
              "                        <td id=\"T_52e1d528_0c74_11ec_9bc3_0242ac1c0002row7_col10\" class=\"data row7 col10\" >Pass</td>\n",
              "                        <td id=\"T_52e1d528_0c74_11ec_9bc3_0242ac1c0002row7_col11\" class=\"data row7 col11\" >Passed</td>\n",
              "                        <td id=\"T_52e1d528_0c74_11ec_9bc3_0242ac1c0002row7_col12\" class=\"data row7 col12\" >122</td>\n",
              "                        <td id=\"T_52e1d528_0c74_11ec_9bc3_0242ac1c0002row7_col13\" class=\"data row7 col13\" >40.666667</td>\n",
              "                        <td id=\"T_52e1d528_0c74_11ec_9bc3_0242ac1c0002row7_col14\" class=\"data row7 col14\" >D2</td>\n",
              "            </tr>\n",
              "            <tr>\n",
              "                        <th id=\"T_52e1d528_0c74_11ec_9bc3_0242ac1c0002level0_row8\" class=\"row_heading level0 row8\" >8</th>\n",
              "                        <td id=\"T_52e1d528_0c74_11ec_9bc3_0242ac1c0002row8_col0\" class=\"data row8 col0\" >male</td>\n",
              "                        <td id=\"T_52e1d528_0c74_11ec_9bc3_0242ac1c0002row8_col1\" class=\"data row8 col1\" >group D</td>\n",
              "                        <td id=\"T_52e1d528_0c74_11ec_9bc3_0242ac1c0002row8_col2\" class=\"data row8 col2\" >high school</td>\n",
              "                        <td id=\"T_52e1d528_0c74_11ec_9bc3_0242ac1c0002row8_col3\" class=\"data row8 col3\" >free/reduced</td>\n",
              "                        <td id=\"T_52e1d528_0c74_11ec_9bc3_0242ac1c0002row8_col4\" class=\"data row8 col4\" >completed</td>\n",
              "                        <td id=\"T_52e1d528_0c74_11ec_9bc3_0242ac1c0002row8_col5\" class=\"data row8 col5\" >64</td>\n",
              "                        <td id=\"T_52e1d528_0c74_11ec_9bc3_0242ac1c0002row8_col6\" class=\"data row8 col6\" >64</td>\n",
              "                        <td id=\"T_52e1d528_0c74_11ec_9bc3_0242ac1c0002row8_col7\" class=\"data row8 col7\" >67</td>\n",
              "                        <td id=\"T_52e1d528_0c74_11ec_9bc3_0242ac1c0002row8_col8\" class=\"data row8 col8\" >Pass</td>\n",
              "                        <td id=\"T_52e1d528_0c74_11ec_9bc3_0242ac1c0002row8_col9\" class=\"data row8 col9\" >Pass</td>\n",
              "                        <td id=\"T_52e1d528_0c74_11ec_9bc3_0242ac1c0002row8_col10\" class=\"data row8 col10\" >Pass</td>\n",
              "                        <td id=\"T_52e1d528_0c74_11ec_9bc3_0242ac1c0002row8_col11\" class=\"data row8 col11\" >Passed</td>\n",
              "                        <td id=\"T_52e1d528_0c74_11ec_9bc3_0242ac1c0002row8_col12\" class=\"data row8 col12\" >195</td>\n",
              "                        <td id=\"T_52e1d528_0c74_11ec_9bc3_0242ac1c0002row8_col13\" class=\"data row8 col13\" >65.000000</td>\n",
              "                        <td id=\"T_52e1d528_0c74_11ec_9bc3_0242ac1c0002row8_col14\" class=\"data row8 col14\" >C1</td>\n",
              "            </tr>\n",
              "            <tr>\n",
              "                        <th id=\"T_52e1d528_0c74_11ec_9bc3_0242ac1c0002level0_row9\" class=\"row_heading level0 row9\" >9</th>\n",
              "                        <td id=\"T_52e1d528_0c74_11ec_9bc3_0242ac1c0002row9_col0\" class=\"data row9 col0\" >female</td>\n",
              "                        <td id=\"T_52e1d528_0c74_11ec_9bc3_0242ac1c0002row9_col1\" class=\"data row9 col1\" >group B</td>\n",
              "                        <td id=\"T_52e1d528_0c74_11ec_9bc3_0242ac1c0002row9_col2\" class=\"data row9 col2\" >high school</td>\n",
              "                        <td id=\"T_52e1d528_0c74_11ec_9bc3_0242ac1c0002row9_col3\" class=\"data row9 col3\" >free/reduced</td>\n",
              "                        <td id=\"T_52e1d528_0c74_11ec_9bc3_0242ac1c0002row9_col4\" class=\"data row9 col4\" >none</td>\n",
              "                        <td id=\"T_52e1d528_0c74_11ec_9bc3_0242ac1c0002row9_col5\" class=\"data row9 col5\" >38</td>\n",
              "                        <td id=\"T_52e1d528_0c74_11ec_9bc3_0242ac1c0002row9_col6\" class=\"data row9 col6\" >60</td>\n",
              "                        <td id=\"T_52e1d528_0c74_11ec_9bc3_0242ac1c0002row9_col7\" class=\"data row9 col7\" >50</td>\n",
              "                        <td id=\"T_52e1d528_0c74_11ec_9bc3_0242ac1c0002row9_col8\" class=\"data row9 col8\" >Pass</td>\n",
              "                        <td id=\"T_52e1d528_0c74_11ec_9bc3_0242ac1c0002row9_col9\" class=\"data row9 col9\" >Pass</td>\n",
              "                        <td id=\"T_52e1d528_0c74_11ec_9bc3_0242ac1c0002row9_col10\" class=\"data row9 col10\" >Pass</td>\n",
              "                        <td id=\"T_52e1d528_0c74_11ec_9bc3_0242ac1c0002row9_col11\" class=\"data row9 col11\" >Passed</td>\n",
              "                        <td id=\"T_52e1d528_0c74_11ec_9bc3_0242ac1c0002row9_col12\" class=\"data row9 col12\" >148</td>\n",
              "                        <td id=\"T_52e1d528_0c74_11ec_9bc3_0242ac1c0002row9_col13\" class=\"data row9 col13\" >49.333333</td>\n",
              "                        <td id=\"T_52e1d528_0c74_11ec_9bc3_0242ac1c0002row9_col14\" class=\"data row9 col14\" >D1</td>\n",
              "            </tr>\n",
              "            <tr>\n",
              "                        <th id=\"T_52e1d528_0c74_11ec_9bc3_0242ac1c0002level0_row10\" class=\"row_heading level0 row10\" >10</th>\n",
              "                        <td id=\"T_52e1d528_0c74_11ec_9bc3_0242ac1c0002row10_col0\" class=\"data row10 col0\" >male</td>\n",
              "                        <td id=\"T_52e1d528_0c74_11ec_9bc3_0242ac1c0002row10_col1\" class=\"data row10 col1\" >group C</td>\n",
              "                        <td id=\"T_52e1d528_0c74_11ec_9bc3_0242ac1c0002row10_col2\" class=\"data row10 col2\" >associate's degree</td>\n",
              "                        <td id=\"T_52e1d528_0c74_11ec_9bc3_0242ac1c0002row10_col3\" class=\"data row10 col3\" >standard</td>\n",
              "                        <td id=\"T_52e1d528_0c74_11ec_9bc3_0242ac1c0002row10_col4\" class=\"data row10 col4\" >none</td>\n",
              "                        <td id=\"T_52e1d528_0c74_11ec_9bc3_0242ac1c0002row10_col5\" class=\"data row10 col5\" >58</td>\n",
              "                        <td id=\"T_52e1d528_0c74_11ec_9bc3_0242ac1c0002row10_col6\" class=\"data row10 col6\" >54</td>\n",
              "                        <td id=\"T_52e1d528_0c74_11ec_9bc3_0242ac1c0002row10_col7\" class=\"data row10 col7\" >52</td>\n",
              "                        <td id=\"T_52e1d528_0c74_11ec_9bc3_0242ac1c0002row10_col8\" class=\"data row10 col8\" >Pass</td>\n",
              "                        <td id=\"T_52e1d528_0c74_11ec_9bc3_0242ac1c0002row10_col9\" class=\"data row10 col9\" >Pass</td>\n",
              "                        <td id=\"T_52e1d528_0c74_11ec_9bc3_0242ac1c0002row10_col10\" class=\"data row10 col10\" >Pass</td>\n",
              "                        <td id=\"T_52e1d528_0c74_11ec_9bc3_0242ac1c0002row10_col11\" class=\"data row10 col11\" >Passed</td>\n",
              "                        <td id=\"T_52e1d528_0c74_11ec_9bc3_0242ac1c0002row10_col12\" class=\"data row10 col12\" >164</td>\n",
              "                        <td id=\"T_52e1d528_0c74_11ec_9bc3_0242ac1c0002row10_col13\" class=\"data row10 col13\" >54.666667</td>\n",
              "                        <td id=\"T_52e1d528_0c74_11ec_9bc3_0242ac1c0002row10_col14\" class=\"data row10 col14\" >C2</td>\n",
              "            </tr>\n",
              "            <tr>\n",
              "                        <th id=\"T_52e1d528_0c74_11ec_9bc3_0242ac1c0002level0_row11\" class=\"row_heading level0 row11\" >11</th>\n",
              "                        <td id=\"T_52e1d528_0c74_11ec_9bc3_0242ac1c0002row11_col0\" class=\"data row11 col0\" >male</td>\n",
              "                        <td id=\"T_52e1d528_0c74_11ec_9bc3_0242ac1c0002row11_col1\" class=\"data row11 col1\" >group D</td>\n",
              "                        <td id=\"T_52e1d528_0c74_11ec_9bc3_0242ac1c0002row11_col2\" class=\"data row11 col2\" >associate's degree</td>\n",
              "                        <td id=\"T_52e1d528_0c74_11ec_9bc3_0242ac1c0002row11_col3\" class=\"data row11 col3\" >standard</td>\n",
              "                        <td id=\"T_52e1d528_0c74_11ec_9bc3_0242ac1c0002row11_col4\" class=\"data row11 col4\" >none</td>\n",
              "                        <td id=\"T_52e1d528_0c74_11ec_9bc3_0242ac1c0002row11_col5\" class=\"data row11 col5\" >40</td>\n",
              "                        <td id=\"T_52e1d528_0c74_11ec_9bc3_0242ac1c0002row11_col6\" class=\"data row11 col6\" >52</td>\n",
              "                        <td id=\"T_52e1d528_0c74_11ec_9bc3_0242ac1c0002row11_col7\" class=\"data row11 col7\" >43</td>\n",
              "                        <td id=\"T_52e1d528_0c74_11ec_9bc3_0242ac1c0002row11_col8\" class=\"data row11 col8\" >Pass</td>\n",
              "                        <td id=\"T_52e1d528_0c74_11ec_9bc3_0242ac1c0002row11_col9\" class=\"data row11 col9\" >Pass</td>\n",
              "                        <td id=\"T_52e1d528_0c74_11ec_9bc3_0242ac1c0002row11_col10\" class=\"data row11 col10\" >Pass</td>\n",
              "                        <td id=\"T_52e1d528_0c74_11ec_9bc3_0242ac1c0002row11_col11\" class=\"data row11 col11\" >Passed</td>\n",
              "                        <td id=\"T_52e1d528_0c74_11ec_9bc3_0242ac1c0002row11_col12\" class=\"data row11 col12\" >135</td>\n",
              "                        <td id=\"T_52e1d528_0c74_11ec_9bc3_0242ac1c0002row11_col13\" class=\"data row11 col13\" >45.000000</td>\n",
              "                        <td id=\"T_52e1d528_0c74_11ec_9bc3_0242ac1c0002row11_col14\" class=\"data row11 col14\" >D1</td>\n",
              "            </tr>\n",
              "            <tr>\n",
              "                        <th id=\"T_52e1d528_0c74_11ec_9bc3_0242ac1c0002level0_row12\" class=\"row_heading level0 row12\" >12</th>\n",
              "                        <td id=\"T_52e1d528_0c74_11ec_9bc3_0242ac1c0002row12_col0\" class=\"data row12 col0\" >female</td>\n",
              "                        <td id=\"T_52e1d528_0c74_11ec_9bc3_0242ac1c0002row12_col1\" class=\"data row12 col1\" >group B</td>\n",
              "                        <td id=\"T_52e1d528_0c74_11ec_9bc3_0242ac1c0002row12_col2\" class=\"data row12 col2\" >high school</td>\n",
              "                        <td id=\"T_52e1d528_0c74_11ec_9bc3_0242ac1c0002row12_col3\" class=\"data row12 col3\" >standard</td>\n",
              "                        <td id=\"T_52e1d528_0c74_11ec_9bc3_0242ac1c0002row12_col4\" class=\"data row12 col4\" >none</td>\n",
              "                        <td id=\"T_52e1d528_0c74_11ec_9bc3_0242ac1c0002row12_col5\" class=\"data row12 col5\" >65</td>\n",
              "                        <td id=\"T_52e1d528_0c74_11ec_9bc3_0242ac1c0002row12_col6\" class=\"data row12 col6\" >81</td>\n",
              "                        <td id=\"T_52e1d528_0c74_11ec_9bc3_0242ac1c0002row12_col7\" class=\"data row12 col7\" >73</td>\n",
              "                        <td id=\"T_52e1d528_0c74_11ec_9bc3_0242ac1c0002row12_col8\" class=\"data row12 col8\" >Pass</td>\n",
              "                        <td id=\"T_52e1d528_0c74_11ec_9bc3_0242ac1c0002row12_col9\" class=\"data row12 col9\" >Pass</td>\n",
              "                        <td id=\"T_52e1d528_0c74_11ec_9bc3_0242ac1c0002row12_col10\" class=\"data row12 col10\" >Pass</td>\n",
              "                        <td id=\"T_52e1d528_0c74_11ec_9bc3_0242ac1c0002row12_col11\" class=\"data row12 col11\" >Passed</td>\n",
              "                        <td id=\"T_52e1d528_0c74_11ec_9bc3_0242ac1c0002row12_col12\" class=\"data row12 col12\" >219</td>\n",
              "                        <td id=\"T_52e1d528_0c74_11ec_9bc3_0242ac1c0002row12_col13\" class=\"data row12 col13\" >73.000000</td>\n",
              "                        <td id=\"T_52e1d528_0c74_11ec_9bc3_0242ac1c0002row12_col14\" class=\"data row12 col14\" >B2</td>\n",
              "            </tr>\n",
              "            <tr>\n",
              "                        <th id=\"T_52e1d528_0c74_11ec_9bc3_0242ac1c0002level0_row13\" class=\"row_heading level0 row13\" >13</th>\n",
              "                        <td id=\"T_52e1d528_0c74_11ec_9bc3_0242ac1c0002row13_col0\" class=\"data row13 col0\" >male</td>\n",
              "                        <td id=\"T_52e1d528_0c74_11ec_9bc3_0242ac1c0002row13_col1\" class=\"data row13 col1\" >group A</td>\n",
              "                        <td id=\"T_52e1d528_0c74_11ec_9bc3_0242ac1c0002row13_col2\" class=\"data row13 col2\" >some college</td>\n",
              "                        <td id=\"T_52e1d528_0c74_11ec_9bc3_0242ac1c0002row13_col3\" class=\"data row13 col3\" >standard</td>\n",
              "                        <td id=\"T_52e1d528_0c74_11ec_9bc3_0242ac1c0002row13_col4\" class=\"data row13 col4\" >completed</td>\n",
              "                        <td id=\"T_52e1d528_0c74_11ec_9bc3_0242ac1c0002row13_col5\" class=\"data row13 col5\" >78</td>\n",
              "                        <td id=\"T_52e1d528_0c74_11ec_9bc3_0242ac1c0002row13_col6\" class=\"data row13 col6\" >72</td>\n",
              "                        <td id=\"T_52e1d528_0c74_11ec_9bc3_0242ac1c0002row13_col7\" class=\"data row13 col7\" >70</td>\n",
              "                        <td id=\"T_52e1d528_0c74_11ec_9bc3_0242ac1c0002row13_col8\" class=\"data row13 col8\" >Pass</td>\n",
              "                        <td id=\"T_52e1d528_0c74_11ec_9bc3_0242ac1c0002row13_col9\" class=\"data row13 col9\" >Pass</td>\n",
              "                        <td id=\"T_52e1d528_0c74_11ec_9bc3_0242ac1c0002row13_col10\" class=\"data row13 col10\" >Pass</td>\n",
              "                        <td id=\"T_52e1d528_0c74_11ec_9bc3_0242ac1c0002row13_col11\" class=\"data row13 col11\" >Passed</td>\n",
              "                        <td id=\"T_52e1d528_0c74_11ec_9bc3_0242ac1c0002row13_col12\" class=\"data row13 col12\" >220</td>\n",
              "                        <td id=\"T_52e1d528_0c74_11ec_9bc3_0242ac1c0002row13_col13\" class=\"data row13 col13\" >73.333333</td>\n",
              "                        <td id=\"T_52e1d528_0c74_11ec_9bc3_0242ac1c0002row13_col14\" class=\"data row13 col14\" >B2</td>\n",
              "            </tr>\n",
              "            <tr>\n",
              "                        <th id=\"T_52e1d528_0c74_11ec_9bc3_0242ac1c0002level0_row14\" class=\"row_heading level0 row14\" >14</th>\n",
              "                        <td id=\"T_52e1d528_0c74_11ec_9bc3_0242ac1c0002row14_col0\" class=\"data row14 col0\" >female</td>\n",
              "                        <td id=\"T_52e1d528_0c74_11ec_9bc3_0242ac1c0002row14_col1\" class=\"data row14 col1\" >group A</td>\n",
              "                        <td id=\"T_52e1d528_0c74_11ec_9bc3_0242ac1c0002row14_col2\" class=\"data row14 col2\" >master's degree</td>\n",
              "                        <td id=\"T_52e1d528_0c74_11ec_9bc3_0242ac1c0002row14_col3\" class=\"data row14 col3\" >standard</td>\n",
              "                        <td id=\"T_52e1d528_0c74_11ec_9bc3_0242ac1c0002row14_col4\" class=\"data row14 col4\" >none</td>\n",
              "                        <td id=\"T_52e1d528_0c74_11ec_9bc3_0242ac1c0002row14_col5\" class=\"data row14 col5\" >50</td>\n",
              "                        <td id=\"T_52e1d528_0c74_11ec_9bc3_0242ac1c0002row14_col6\" class=\"data row14 col6\" >53</td>\n",
              "                        <td id=\"T_52e1d528_0c74_11ec_9bc3_0242ac1c0002row14_col7\" class=\"data row14 col7\" >58</td>\n",
              "                        <td id=\"T_52e1d528_0c74_11ec_9bc3_0242ac1c0002row14_col8\" class=\"data row14 col8\" >Pass</td>\n",
              "                        <td id=\"T_52e1d528_0c74_11ec_9bc3_0242ac1c0002row14_col9\" class=\"data row14 col9\" >Pass</td>\n",
              "                        <td id=\"T_52e1d528_0c74_11ec_9bc3_0242ac1c0002row14_col10\" class=\"data row14 col10\" >Pass</td>\n",
              "                        <td id=\"T_52e1d528_0c74_11ec_9bc3_0242ac1c0002row14_col11\" class=\"data row14 col11\" >Passed</td>\n",
              "                        <td id=\"T_52e1d528_0c74_11ec_9bc3_0242ac1c0002row14_col12\" class=\"data row14 col12\" >161</td>\n",
              "                        <td id=\"T_52e1d528_0c74_11ec_9bc3_0242ac1c0002row14_col13\" class=\"data row14 col13\" >53.666667</td>\n",
              "                        <td id=\"T_52e1d528_0c74_11ec_9bc3_0242ac1c0002row14_col14\" class=\"data row14 col14\" >C2</td>\n",
              "            </tr>\n",
              "            <tr>\n",
              "                        <th id=\"T_52e1d528_0c74_11ec_9bc3_0242ac1c0002level0_row15\" class=\"row_heading level0 row15\" >15</th>\n",
              "                        <td id=\"T_52e1d528_0c74_11ec_9bc3_0242ac1c0002row15_col0\" class=\"data row15 col0\" >female</td>\n",
              "                        <td id=\"T_52e1d528_0c74_11ec_9bc3_0242ac1c0002row15_col1\" class=\"data row15 col1\" >group C</td>\n",
              "                        <td id=\"T_52e1d528_0c74_11ec_9bc3_0242ac1c0002row15_col2\" class=\"data row15 col2\" >some high school</td>\n",
              "                        <td id=\"T_52e1d528_0c74_11ec_9bc3_0242ac1c0002row15_col3\" class=\"data row15 col3\" >standard</td>\n",
              "                        <td id=\"T_52e1d528_0c74_11ec_9bc3_0242ac1c0002row15_col4\" class=\"data row15 col4\" >none</td>\n",
              "                        <td id=\"T_52e1d528_0c74_11ec_9bc3_0242ac1c0002row15_col5\" class=\"data row15 col5\" >69</td>\n",
              "                        <td id=\"T_52e1d528_0c74_11ec_9bc3_0242ac1c0002row15_col6\" class=\"data row15 col6\" >75</td>\n",
              "                        <td id=\"T_52e1d528_0c74_11ec_9bc3_0242ac1c0002row15_col7\" class=\"data row15 col7\" >78</td>\n",
              "                        <td id=\"T_52e1d528_0c74_11ec_9bc3_0242ac1c0002row15_col8\" class=\"data row15 col8\" >Pass</td>\n",
              "                        <td id=\"T_52e1d528_0c74_11ec_9bc3_0242ac1c0002row15_col9\" class=\"data row15 col9\" >Pass</td>\n",
              "                        <td id=\"T_52e1d528_0c74_11ec_9bc3_0242ac1c0002row15_col10\" class=\"data row15 col10\" >Pass</td>\n",
              "                        <td id=\"T_52e1d528_0c74_11ec_9bc3_0242ac1c0002row15_col11\" class=\"data row15 col11\" >Passed</td>\n",
              "                        <td id=\"T_52e1d528_0c74_11ec_9bc3_0242ac1c0002row15_col12\" class=\"data row15 col12\" >222</td>\n",
              "                        <td id=\"T_52e1d528_0c74_11ec_9bc3_0242ac1c0002row15_col13\" class=\"data row15 col13\" >74.000000</td>\n",
              "                        <td id=\"T_52e1d528_0c74_11ec_9bc3_0242ac1c0002row15_col14\" class=\"data row15 col14\" >B2</td>\n",
              "            </tr>\n",
              "            <tr>\n",
              "                        <th id=\"T_52e1d528_0c74_11ec_9bc3_0242ac1c0002level0_row16\" class=\"row_heading level0 row16\" >16</th>\n",
              "                        <td id=\"T_52e1d528_0c74_11ec_9bc3_0242ac1c0002row16_col0\" class=\"data row16 col0\" >male</td>\n",
              "                        <td id=\"T_52e1d528_0c74_11ec_9bc3_0242ac1c0002row16_col1\" class=\"data row16 col1\" >group C</td>\n",
              "                        <td id=\"T_52e1d528_0c74_11ec_9bc3_0242ac1c0002row16_col2\" class=\"data row16 col2\" >high school</td>\n",
              "                        <td id=\"T_52e1d528_0c74_11ec_9bc3_0242ac1c0002row16_col3\" class=\"data row16 col3\" >standard</td>\n",
              "                        <td id=\"T_52e1d528_0c74_11ec_9bc3_0242ac1c0002row16_col4\" class=\"data row16 col4\" >none</td>\n",
              "                        <td id=\"T_52e1d528_0c74_11ec_9bc3_0242ac1c0002row16_col5\" class=\"data row16 col5\" >88</td>\n",
              "                        <td id=\"T_52e1d528_0c74_11ec_9bc3_0242ac1c0002row16_col6\" class=\"data row16 col6\" >89</td>\n",
              "                        <td id=\"T_52e1d528_0c74_11ec_9bc3_0242ac1c0002row16_col7\" class=\"data row16 col7\" >86</td>\n",
              "                        <td id=\"T_52e1d528_0c74_11ec_9bc3_0242ac1c0002row16_col8\" class=\"data row16 col8\" >Pass</td>\n",
              "                        <td id=\"T_52e1d528_0c74_11ec_9bc3_0242ac1c0002row16_col9\" class=\"data row16 col9\" >Pass</td>\n",
              "                        <td id=\"T_52e1d528_0c74_11ec_9bc3_0242ac1c0002row16_col10\" class=\"data row16 col10\" >Pass</td>\n",
              "                        <td id=\"T_52e1d528_0c74_11ec_9bc3_0242ac1c0002row16_col11\" class=\"data row16 col11\" >Passed</td>\n",
              "                        <td id=\"T_52e1d528_0c74_11ec_9bc3_0242ac1c0002row16_col12\" class=\"data row16 col12\" >263</td>\n",
              "                        <td id=\"T_52e1d528_0c74_11ec_9bc3_0242ac1c0002row16_col13\" class=\"data row16 col13\" >87.666667</td>\n",
              "                        <td id=\"T_52e1d528_0c74_11ec_9bc3_0242ac1c0002row16_col14\" class=\"data row16 col14\" >A2</td>\n",
              "            </tr>\n",
              "            <tr>\n",
              "                        <th id=\"T_52e1d528_0c74_11ec_9bc3_0242ac1c0002level0_row17\" class=\"row_heading level0 row17\" >17</th>\n",
              "                        <td id=\"T_52e1d528_0c74_11ec_9bc3_0242ac1c0002row17_col0\" class=\"data row17 col0\" >female</td>\n",
              "                        <td id=\"T_52e1d528_0c74_11ec_9bc3_0242ac1c0002row17_col1\" class=\"data row17 col1\" >group B</td>\n",
              "                        <td id=\"T_52e1d528_0c74_11ec_9bc3_0242ac1c0002row17_col2\" class=\"data row17 col2\" >some high school</td>\n",
              "                        <td id=\"T_52e1d528_0c74_11ec_9bc3_0242ac1c0002row17_col3\" class=\"data row17 col3\" >free/reduced</td>\n",
              "                        <td id=\"T_52e1d528_0c74_11ec_9bc3_0242ac1c0002row17_col4\" class=\"data row17 col4\" >none</td>\n",
              "                        <td id=\"T_52e1d528_0c74_11ec_9bc3_0242ac1c0002row17_col5\" class=\"data row17 col5\" >18</td>\n",
              "                        <td id=\"T_52e1d528_0c74_11ec_9bc3_0242ac1c0002row17_col6\" class=\"data row17 col6\" >32</td>\n",
              "                        <td id=\"T_52e1d528_0c74_11ec_9bc3_0242ac1c0002row17_col7\" class=\"data row17 col7\" >28</td>\n",
              "                        <td id=\"T_52e1d528_0c74_11ec_9bc3_0242ac1c0002row17_col8\" class=\"data row17 col8\" >Fail</td>\n",
              "                        <td id=\"T_52e1d528_0c74_11ec_9bc3_0242ac1c0002row17_col9\" class=\"data row17 col9\" >Fail</td>\n",
              "                        <td id=\"T_52e1d528_0c74_11ec_9bc3_0242ac1c0002row17_col10\" class=\"data row17 col10\" >Fail</td>\n",
              "                        <td id=\"T_52e1d528_0c74_11ec_9bc3_0242ac1c0002row17_col11\" class=\"data row17 col11\" >Failed</td>\n",
              "                        <td id=\"T_52e1d528_0c74_11ec_9bc3_0242ac1c0002row17_col12\" class=\"data row17 col12\" >78</td>\n",
              "                        <td id=\"T_52e1d528_0c74_11ec_9bc3_0242ac1c0002row17_col13\" class=\"data row17 col13\" >26.000000</td>\n",
              "                        <td id=\"T_52e1d528_0c74_11ec_9bc3_0242ac1c0002row17_col14\" class=\"data row17 col14\" >F</td>\n",
              "            </tr>\n",
              "            <tr>\n",
              "                        <th id=\"T_52e1d528_0c74_11ec_9bc3_0242ac1c0002level0_row18\" class=\"row_heading level0 row18\" >18</th>\n",
              "                        <td id=\"T_52e1d528_0c74_11ec_9bc3_0242ac1c0002row18_col0\" class=\"data row18 col0\" >male</td>\n",
              "                        <td id=\"T_52e1d528_0c74_11ec_9bc3_0242ac1c0002row18_col1\" class=\"data row18 col1\" >group C</td>\n",
              "                        <td id=\"T_52e1d528_0c74_11ec_9bc3_0242ac1c0002row18_col2\" class=\"data row18 col2\" >master's degree</td>\n",
              "                        <td id=\"T_52e1d528_0c74_11ec_9bc3_0242ac1c0002row18_col3\" class=\"data row18 col3\" >free/reduced</td>\n",
              "                        <td id=\"T_52e1d528_0c74_11ec_9bc3_0242ac1c0002row18_col4\" class=\"data row18 col4\" >completed</td>\n",
              "                        <td id=\"T_52e1d528_0c74_11ec_9bc3_0242ac1c0002row18_col5\" class=\"data row18 col5\" >46</td>\n",
              "                        <td id=\"T_52e1d528_0c74_11ec_9bc3_0242ac1c0002row18_col6\" class=\"data row18 col6\" >42</td>\n",
              "                        <td id=\"T_52e1d528_0c74_11ec_9bc3_0242ac1c0002row18_col7\" class=\"data row18 col7\" >46</td>\n",
              "                        <td id=\"T_52e1d528_0c74_11ec_9bc3_0242ac1c0002row18_col8\" class=\"data row18 col8\" >Pass</td>\n",
              "                        <td id=\"T_52e1d528_0c74_11ec_9bc3_0242ac1c0002row18_col9\" class=\"data row18 col9\" >Pass</td>\n",
              "                        <td id=\"T_52e1d528_0c74_11ec_9bc3_0242ac1c0002row18_col10\" class=\"data row18 col10\" >Pass</td>\n",
              "                        <td id=\"T_52e1d528_0c74_11ec_9bc3_0242ac1c0002row18_col11\" class=\"data row18 col11\" >Passed</td>\n",
              "                        <td id=\"T_52e1d528_0c74_11ec_9bc3_0242ac1c0002row18_col12\" class=\"data row18 col12\" >134</td>\n",
              "                        <td id=\"T_52e1d528_0c74_11ec_9bc3_0242ac1c0002row18_col13\" class=\"data row18 col13\" >44.666667</td>\n",
              "                        <td id=\"T_52e1d528_0c74_11ec_9bc3_0242ac1c0002row18_col14\" class=\"data row18 col14\" >D1</td>\n",
              "            </tr>\n",
              "            <tr>\n",
              "                        <th id=\"T_52e1d528_0c74_11ec_9bc3_0242ac1c0002level0_row19\" class=\"row_heading level0 row19\" >19</th>\n",
              "                        <td id=\"T_52e1d528_0c74_11ec_9bc3_0242ac1c0002row19_col0\" class=\"data row19 col0\" >female</td>\n",
              "                        <td id=\"T_52e1d528_0c74_11ec_9bc3_0242ac1c0002row19_col1\" class=\"data row19 col1\" >group C</td>\n",
              "                        <td id=\"T_52e1d528_0c74_11ec_9bc3_0242ac1c0002row19_col2\" class=\"data row19 col2\" >associate's degree</td>\n",
              "                        <td id=\"T_52e1d528_0c74_11ec_9bc3_0242ac1c0002row19_col3\" class=\"data row19 col3\" >free/reduced</td>\n",
              "                        <td id=\"T_52e1d528_0c74_11ec_9bc3_0242ac1c0002row19_col4\" class=\"data row19 col4\" >none</td>\n",
              "                        <td id=\"T_52e1d528_0c74_11ec_9bc3_0242ac1c0002row19_col5\" class=\"data row19 col5\" >54</td>\n",
              "                        <td id=\"T_52e1d528_0c74_11ec_9bc3_0242ac1c0002row19_col6\" class=\"data row19 col6\" >58</td>\n",
              "                        <td id=\"T_52e1d528_0c74_11ec_9bc3_0242ac1c0002row19_col7\" class=\"data row19 col7\" >61</td>\n",
              "                        <td id=\"T_52e1d528_0c74_11ec_9bc3_0242ac1c0002row19_col8\" class=\"data row19 col8\" >Pass</td>\n",
              "                        <td id=\"T_52e1d528_0c74_11ec_9bc3_0242ac1c0002row19_col9\" class=\"data row19 col9\" >Pass</td>\n",
              "                        <td id=\"T_52e1d528_0c74_11ec_9bc3_0242ac1c0002row19_col10\" class=\"data row19 col10\" >Pass</td>\n",
              "                        <td id=\"T_52e1d528_0c74_11ec_9bc3_0242ac1c0002row19_col11\" class=\"data row19 col11\" >Passed</td>\n",
              "                        <td id=\"T_52e1d528_0c74_11ec_9bc3_0242ac1c0002row19_col12\" class=\"data row19 col12\" >173</td>\n",
              "                        <td id=\"T_52e1d528_0c74_11ec_9bc3_0242ac1c0002row19_col13\" class=\"data row19 col13\" >57.666667</td>\n",
              "                        <td id=\"T_52e1d528_0c74_11ec_9bc3_0242ac1c0002row19_col14\" class=\"data row19 col14\" >C2</td>\n",
              "            </tr>\n",
              "    </tbody></table>"
            ],
            "text/plain": [
              "<pandas.io.formats.style.Styler at 0x7fdfa11b0650>"
            ]
          },
          "metadata": {},
          "execution_count": 39
        }
      ]
    },
    {
      "cell_type": "code",
      "metadata": {
        "colab": {
          "base_uri": "https://localhost:8080/",
          "height": 411
        },
        "id": "CIA15Kp-EYpI",
        "outputId": "fefa9ba4-2166-4fc6-d8ab-0701dab58b6c"
      },
      "source": [
        "plt.figure(figsize=[9,7])\n",
        "df['Grading'].value_counts().plot.pie()\n",
        "plt.show()"
      ],
      "execution_count": 40,
      "outputs": [
        {
          "output_type": "display_data",
          "data": {
            "image/png": "[encoded data removed]",
            "text/plain": [
              "<Figure size 648x504 with 1 Axes>"
            ]
          },
          "metadata": {}
        }
      ]
    },
    {
      "cell_type": "code",
      "metadata": {
        "colab": {
          "base_uri": "https://localhost:8080/",
          "height": 431
        },
        "id": "mV4BJMpBEwxk",
        "outputId": "c33b2bed-26d9-434c-8903-8b884baf86af"
      },
      "source": [
        "#plotting a bar chart\n",
        "plt.figure(figsize=[9,7])\n",
        "df['Grading'].value_counts().plot.barh()\n",
        "plt.show()"
      ],
      "execution_count": 42,
      "outputs": [
        {
          "output_type": "display_data",
          "data": {
            "image/png": "[encoded data removed]",
            "text/plain": [
              "<Figure size 648x504 with 1 Axes>"
            ]
          },
          "metadata": {}
        }
      ]
    },
    {
      "cell_type": "markdown",
      "metadata": {
        "id": "fWoMXAfKFBz2"
      },
      "source": [
        "# **Scatter Plot**\n",
        "Up until now, we have been dealing with only a single numeric column from the dataset. But, what if we have to infer a relationship between two numeric columns.\n",
        "\n",
        "Scatter Plot is used when we want to plot the relationship between any two numeric columns from a dataset. These plots are the most powerful visualization tools that are being used in the field of machine learning."
      ]
    },
    {
      "cell_type": "markdown",
      "metadata": {
        "id": "4vH6Lhn4Fwgs"
      },
      "source": [
        "# **Scatter Plot using matplotlib**"
      ]
    },
    {
      "cell_type": "code",
      "metadata": {
        "colab": {
          "base_uri": "https://localhost:8080/",
          "height": 268
        },
        "id": "YpnPpBMIF0u-",
        "outputId": "a2ff88d2-187a-4c5b-95c1-b70386873ee0"
      },
      "source": [
        "#Plotting the scatter plot\n",
        "plt.scatter(df['math score'], df['Percentage'])\n",
        "plt.show()"
      ],
      "execution_count": 46,
      "outputs": [
        {
          "output_type": "display_data",
          "data": {
            "image/png": "[encoded data removed]",
            "text/plain": [
              "<Figure size 432x288 with 1 Axes>"
            ]
          },
          "metadata": {}
        }
      ]
    },
    {
      "cell_type": "markdown",
      "metadata": {
        "id": "w8cyF8D-G0nV"
      },
      "source": [
        "# **Scatter Plot using Seaborn**\n",
        "We will be using sns.joinplot() in the code for scatter plot along with the histogram.\n",
        "\n",
        "sns.scatterplot() in the code for only scatter plots.\n"
      ]
    },
    {
      "cell_type": "code",
      "metadata": {
        "colab": {
          "base_uri": "https://localhost:8080/",
          "height": 491
        },
        "id": "W_4jy-V8G__u",
        "outputId": "cf737a6c-1ad5-4e88-adf5-e5a4df9668e8"
      },
      "source": [
        "sns.jointplot(df['math score'], df['Percentage'])\n",
        "plt.show()"
      ],
      "execution_count": 47,
      "outputs": [
        {
          "output_type": "stream",
          "name": "stderr",
          "text": [
            "/usr/local/lib/python3.7/dist-packages/seaborn/_decorators.py:43: FutureWarning: Pass the following variables as keyword args: x, y. From version 0.12, the only valid positional argument will be `data`, and passing other arguments without an explicit keyword will result in an error or misinterpretation.\n",
            "  FutureWarning\n"
          ]
        },
        {
          "output_type": "display_data",
          "data": {
            "image/png": "[encoded data removed]",
            "text/plain": [
              "<Figure size 432x432 with 3 Axes>"
            ]
          },
          "metadata": {}
        }
      ]
    },
    {
      "cell_type": "markdown",
      "metadata": {
        "id": "3_hfsouxHZwD"
      },
      "source": [
        "# **Assignment**\n",
        "\n",
        "\n",
        "\n",
        "1.  Open a Python Editor using Colab Name it as Assignment 1. \n",
        "2.  Load the \"advertising.csv\" and perform the following as in given sequence.\n",
        "      \n",
        "\n",
        "\n",
        "\n"
      ]
    },
    {
      "cell_type": "markdown",
      "metadata": {
        "id": "RMXatToQJEvz"
      },
      "source": [
        "**Read in the advertising.csv file and set it to a data frame called ad_data.**"
      ]
    },
    {
      "cell_type": "code",
      "metadata": {
        "id": "Lky2TMRbJKtg"
      },
      "source": [
        ""
      ],
      "execution_count": null,
      "outputs": []
    },
    {
      "cell_type": "markdown",
      "metadata": {
        "id": "Hfd5NcGtJRPR"
      },
      "source": [
        "**Check the head of ad_data**"
      ]
    },
    {
      "cell_type": "code",
      "metadata": {
        "id": "t6titeWmJUI7"
      },
      "source": [
        ""
      ],
      "execution_count": null,
      "outputs": []
    },
    {
      "cell_type": "markdown",
      "metadata": {
        "id": "b-Ut8ph3JWAC"
      },
      "source": [
        "** Use info() and describe() on ad_data**"
      ]
    },
    {
      "cell_type": "code",
      "metadata": {
        "id": "3891Mz0QJjew"
      },
      "source": [
        ""
      ],
      "execution_count": null,
      "outputs": []
    },
    {
      "cell_type": "markdown",
      "metadata": {
        "id": "Byr7HSyjKA7l"
      },
      "source": [
        "# **Exploratory Data Analysis**\n",
        "Let's use seaborn to explore the data!\n",
        "Try to recreate the graph shown above with the new data!\n",
        "\n",
        "** Create a histogram of the Age**"
      ]
    },
    {
      "cell_type": "code",
      "metadata": {
        "id": "bSvfqvj1KdQQ"
      },
      "source": [
        ""
      ],
      "execution_count": null,
      "outputs": []
    },
    {
      "cell_type": "markdown",
      "metadata": {
        "id": "IdyjLZb7Kd8B"
      },
      "source": [
        "**Create a jointplot showing Area Income versus Age.**"
      ]
    },
    {
      "cell_type": "code",
      "metadata": {
        "id": "pFxvPKeGKhut"
      },
      "source": [
        ""
      ],
      "execution_count": null,
      "outputs": []
    },
    {
      "cell_type": "markdown",
      "metadata": {
        "id": "zf15OVkfKiWr"
      },
      "source": [
        ""
      ]
    }
  ]
}